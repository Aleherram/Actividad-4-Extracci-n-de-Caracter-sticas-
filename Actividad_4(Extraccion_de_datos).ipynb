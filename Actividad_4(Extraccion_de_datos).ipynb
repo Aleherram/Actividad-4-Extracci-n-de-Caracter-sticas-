{
  "nbformat": 4,
  "nbformat_minor": 0,
  "metadata": {
    "colab": {
      "provenance": [],
      "authorship_tag": "ABX9TyPlYZum/BbVL4LSztvJYtdp",
      "include_colab_link": true
    },
    "kernelspec": {
      "name": "python3",
      "display_name": "Python 3"
    },
    "language_info": {
      "name": "python"
    }
  },
  "cells": [
    {
      "cell_type": "markdown",
      "metadata": {
        "id": "view-in-github",
        "colab_type": "text"
      },
      "source": [
        "<a href=\"https://colab.research.google.com/github/Aleherram/Actividad-4-Extracci-n-de-Caracter-sticas-/blob/main/Actividad_4(Extraccion_de_datos).ipynb\" target=\"_parent\"><img src=\"https://colab.research.google.com/assets/colab-badge.svg\" alt=\"Open In Colab\"/></a>"
      ]
    },
    {
      "cell_type": "code",
      "execution_count": null,
      "metadata": {
        "id": "3YEbscVDumVS"
      },
      "outputs": [],
      "source": [
        "%pip install funpymodeling"
      ]
    },
    {
      "cell_type": "code",
      "source": [
        "import pandas as pd\n",
        "import numpy as np\n",
        "import matplotlib.pyplot as plt\n",
        "from funpymodeling.exploratory import freq_tbl"
      ],
      "metadata": {
        "id": "fEMw0o5PveuO"
      },
      "execution_count": null,
      "outputs": []
    },
    {
      "cell_type": "code",
      "source": [
        "from google.colab import files\n",
        "files.upload()"
      ],
      "metadata": {
        "id": "cmfldGwPvpJv"
      },
      "execution_count": null,
      "outputs": []
    },
    {
      "cell_type": "code",
      "source": [
        "Micro_Retailer=pd.read_excel('microretailer_mit_lift_lab.xlsx')"
      ],
      "metadata": {
        "id": "A0pfZxm-vzLM"
      },
      "execution_count": null,
      "outputs": []
    },
    {
      "cell_type": "code",
      "source": [
        "Micro_Retailer.head()"
      ],
      "metadata": {
        "id": "bAF1o7Rhv3Yj"
      },
      "execution_count": null,
      "outputs": []
    },
    {
      "cell_type": "code",
      "source": [
        "f=Micro_Retailer.iloc[ : , [10,11,12,15,34,35,36,47,48,54,67,68,69,70,71,72,73,74,75,82] ]\n",
        "f"
      ],
      "metadata": {
        "id": "uYtv2s6wxVQM",
        "colab": {
          "base_uri": "https://localhost:8080/",
          "height": 635
        },
        "outputId": "9b150cee-77cf-4e30-e501-98e34439f396"
      },
      "execution_count": null,
      "outputs": [
        {
          "output_type": "execute_result",
          "data": {
            "text/plain": [
              "    108_does_the_micro_retailer_has_a_barred_window_  \\\n",
              "0                                                yes   \n",
              "1                                                 no   \n",
              "2                                                yes   \n",
              "3                                                 no   \n",
              "4                                                yes   \n",
              "..                                               ...   \n",
              "166                                              yes   \n",
              "167                                               no   \n",
              "168                                              yes   \n",
              "169                                               no   \n",
              "170                                               no   \n",
              "\n",
              "    99_does_the_micro_retailer_exhibits_products_outside_  \\\n",
              "0                                                   no      \n",
              "1                                                  yes      \n",
              "2                                                   no      \n",
              "3                                                   no      \n",
              "4                                                   no      \n",
              "..                                                 ...      \n",
              "166                                                 no      \n",
              "167                                                 no      \n",
              "168                                                 no      \n",
              "169                                                 no      \n",
              "170                                                 no      \n",
              "\n",
              "    102_does_the_micro_retailer_sells_fresh_products_  \\\n",
              "0                                                  no   \n",
              "1                                                 yes   \n",
              "2                                                  no   \n",
              "3                                                  no   \n",
              "4                                                  no   \n",
              "..                                                ...   \n",
              "166                                                no   \n",
              "167                                                no   \n",
              "168                                               yes   \n",
              "169                                               yes   \n",
              "170                                               yes   \n",
              "\n",
              "                                     184_store_devices  \\\n",
              "0    POS system (i.e. computer + bar code scanner +...   \n",
              "1                       Dataphone (i.e. card payments)   \n",
              "2    Dataphone (i.e. card payments),POS system (i.e...   \n",
              "3    POS system (i.e. computer + bar code scanner +...   \n",
              "4                                           Smartphone   \n",
              "..                                                 ...   \n",
              "166                    Analog cash register,Smartphone   \n",
              "167                    Analog cash register,Smartphone   \n",
              "168                                         Smartphone   \n",
              "169                               Analog cash register   \n",
              "170                                         Smartphone   \n",
              "\n",
              "    186_internet_connection  \\\n",
              "0                       yes   \n",
              "1                       yes   \n",
              "2                       yes   \n",
              "3                       yes   \n",
              "4                       yes   \n",
              "..                      ...   \n",
              "166                     NaN   \n",
              "167                     NaN   \n",
              "168                     NaN   \n",
              "169                     NaN   \n",
              "170                     NaN   \n",
              "\n",
              "                                    210_sales_channels  \\\n",
              "0    Llamada a Teléfono celular,Llamada a Teléfono ...   \n",
              "1                                             WhatsApp   \n",
              "2    Redes sociales (e.g. Facebook, Instagram),What...   \n",
              "3                              Llamada a Teléfono fijo   \n",
              "4                           Llamada a Teléfono celular   \n",
              "..                                                 ...   \n",
              "166                                                NaN   \n",
              "167                                                NaN   \n",
              "168                                                NaN   \n",
              "169                                                NaN   \n",
              "170                                                NaN   \n",
              "\n",
              "                                   189_payment_methods  \\\n",
              "0                 Efectivo,Transferencia interbancaria   \n",
              "1                 Efectivo,Transferencia interbancaria   \n",
              "2               Efectivo,Tarjeta de débito y/o crédito   \n",
              "3    Efectivo,Tarjeta de débito y/o crédito,Transfe...   \n",
              "4    Efectivo,Tarjeta de débito y/o crédito,Transfe...   \n",
              "..                                                 ...   \n",
              "166                                                NaN   \n",
              "167                                                NaN   \n",
              "168                                                NaN   \n",
              "169                                                NaN   \n",
              "170                                                NaN   \n",
              "\n",
              "    214_customer_relationship_tools 33_credit_to_customers  \\\n",
              "0                    Redes sociales                     no   \n",
              "1                  Aplicación móvil                     no   \n",
              "2                    Redes sociales                    yes   \n",
              "3                          Teléfono                     no   \n",
              "4                               NaN                    yes   \n",
              "..                              ...                    ...   \n",
              "166                             NaN                    NaN   \n",
              "167                             NaN                    NaN   \n",
              "168                             NaN                    NaN   \n",
              "169                             NaN                    NaN   \n",
              "170                             NaN                    NaN   \n",
              "\n",
              "    227_agreement_ecommerce_platforms 312_payment_of_utilities  \\\n",
              "0                                  no                      NaN   \n",
              "1                                  no                      NaN   \n",
              "2                                  no                      NaN   \n",
              "3                                  no                      NaN   \n",
              "4                                  no                      NaN   \n",
              "..                                ...                      ...   \n",
              "166                               NaN                      NaN   \n",
              "167                               NaN                      NaN   \n",
              "168                               NaN                      NaN   \n",
              "169                               NaN                      NaN   \n",
              "170                               NaN                      NaN   \n",
              "\n",
              "    313_home_deliveries 314_reception_delivery_packages  \\\n",
              "0                   NaN                             NaN   \n",
              "1                   NaN                             NaN   \n",
              "2                   NaN                             NaN   \n",
              "3                   NaN                             NaN   \n",
              "4                   NaN                             NaN   \n",
              "..                  ...                             ...   \n",
              "166                 NaN                             NaN   \n",
              "167                 NaN                             NaN   \n",
              "168                 NaN                             NaN   \n",
              "169                 NaN                             NaN   \n",
              "170                 NaN                             NaN   \n",
              "\n",
              "    42_willingness_share_inventory_data_suppliers  \\\n",
              "0                                             NaN   \n",
              "1                                             NaN   \n",
              "2                                             NaN   \n",
              "3                                             NaN   \n",
              "4                                             NaN   \n",
              "..                                            ...   \n",
              "166                                           NaN   \n",
              "167                                           NaN   \n",
              "168                                           NaN   \n",
              "169                                           NaN   \n",
              "170                                           NaN   \n",
              "\n",
              "    44_willingness_inventory_management_suppliers  \\\n",
              "0                                             NaN   \n",
              "1                                             NaN   \n",
              "2                                             NaN   \n",
              "3                                             NaN   \n",
              "4                                             NaN   \n",
              "..                                            ...   \n",
              "166                                           NaN   \n",
              "167                                           NaN   \n",
              "168                                           NaN   \n",
              "169                                           NaN   \n",
              "170                                           NaN   \n",
              "\n",
              "    45_willingness_reorder_suppliers 46_willingness_reorder_suppliers_variety  \\\n",
              "0                                NaN                                      NaN   \n",
              "1                                NaN                                      NaN   \n",
              "2                                NaN                                      NaN   \n",
              "3                                NaN                                      NaN   \n",
              "4                                NaN                                      NaN   \n",
              "..                               ...                                      ...   \n",
              "166                              NaN                                      NaN   \n",
              "167                              NaN                                      NaN   \n",
              "168                              NaN                                      NaN   \n",
              "169                              NaN                                      NaN   \n",
              "170                              NaN                                      NaN   \n",
              "\n",
              "    47_willingness_reorder_suppliers_lower_prices  \\\n",
              "0                                             NaN   \n",
              "1                                             NaN   \n",
              "2                                             NaN   \n",
              "3                                             NaN   \n",
              "4                                             NaN   \n",
              "..                                            ...   \n",
              "166                                           NaN   \n",
              "167                                           NaN   \n",
              "168                                           NaN   \n",
              "169                                           NaN   \n",
              "170                                           NaN   \n",
              "\n",
              "    43_willingness_share_sales_data_suppliers 192_procurement_planning_tools  \n",
              "0                                         NaN                            NaN  \n",
              "1                                         NaN                            NaN  \n",
              "2                                         NaN                            NaN  \n",
              "3                                         NaN                            NaN  \n",
              "4                                         NaN                            NaN  \n",
              "..                                        ...                            ...  \n",
              "166                                       NaN                            NaN  \n",
              "167                                       NaN                            NaN  \n",
              "168                                       NaN                            NaN  \n",
              "169                                       NaN                            NaN  \n",
              "170                                       NaN                            NaN  \n",
              "\n",
              "[171 rows x 20 columns]"
            ],
            "text/html": [
              "\n",
              "  <div id=\"df-e518a6f3-28e6-45ff-8711-f208482007ee\" class=\"colab-df-container\">\n",
              "    <div>\n",
              "<style scoped>\n",
              "    .dataframe tbody tr th:only-of-type {\n",
              "        vertical-align: middle;\n",
              "    }\n",
              "\n",
              "    .dataframe tbody tr th {\n",
              "        vertical-align: top;\n",
              "    }\n",
              "\n",
              "    .dataframe thead th {\n",
              "        text-align: right;\n",
              "    }\n",
              "</style>\n",
              "<table border=\"1\" class=\"dataframe\">\n",
              "  <thead>\n",
              "    <tr style=\"text-align: right;\">\n",
              "      <th></th>\n",
              "      <th>108_does_the_micro_retailer_has_a_barred_window_</th>\n",
              "      <th>99_does_the_micro_retailer_exhibits_products_outside_</th>\n",
              "      <th>102_does_the_micro_retailer_sells_fresh_products_</th>\n",
              "      <th>184_store_devices</th>\n",
              "      <th>186_internet_connection</th>\n",
              "      <th>210_sales_channels</th>\n",
              "      <th>189_payment_methods</th>\n",
              "      <th>214_customer_relationship_tools</th>\n",
              "      <th>33_credit_to_customers</th>\n",
              "      <th>227_agreement_ecommerce_platforms</th>\n",
              "      <th>312_payment_of_utilities</th>\n",
              "      <th>313_home_deliveries</th>\n",
              "      <th>314_reception_delivery_packages</th>\n",
              "      <th>42_willingness_share_inventory_data_suppliers</th>\n",
              "      <th>44_willingness_inventory_management_suppliers</th>\n",
              "      <th>45_willingness_reorder_suppliers</th>\n",
              "      <th>46_willingness_reorder_suppliers_variety</th>\n",
              "      <th>47_willingness_reorder_suppliers_lower_prices</th>\n",
              "      <th>43_willingness_share_sales_data_suppliers</th>\n",
              "      <th>192_procurement_planning_tools</th>\n",
              "    </tr>\n",
              "  </thead>\n",
              "  <tbody>\n",
              "    <tr>\n",
              "      <th>0</th>\n",
              "      <td>yes</td>\n",
              "      <td>no</td>\n",
              "      <td>no</td>\n",
              "      <td>POS system (i.e. computer + bar code scanner +...</td>\n",
              "      <td>yes</td>\n",
              "      <td>Llamada a Teléfono celular,Llamada a Teléfono ...</td>\n",
              "      <td>Efectivo,Transferencia interbancaria</td>\n",
              "      <td>Redes sociales</td>\n",
              "      <td>no</td>\n",
              "      <td>no</td>\n",
              "      <td>NaN</td>\n",
              "      <td>NaN</td>\n",
              "      <td>NaN</td>\n",
              "      <td>NaN</td>\n",
              "      <td>NaN</td>\n",
              "      <td>NaN</td>\n",
              "      <td>NaN</td>\n",
              "      <td>NaN</td>\n",
              "      <td>NaN</td>\n",
              "      <td>NaN</td>\n",
              "    </tr>\n",
              "    <tr>\n",
              "      <th>1</th>\n",
              "      <td>no</td>\n",
              "      <td>yes</td>\n",
              "      <td>yes</td>\n",
              "      <td>Dataphone (i.e. card payments)</td>\n",
              "      <td>yes</td>\n",
              "      <td>WhatsApp</td>\n",
              "      <td>Efectivo,Transferencia interbancaria</td>\n",
              "      <td>Aplicación móvil</td>\n",
              "      <td>no</td>\n",
              "      <td>no</td>\n",
              "      <td>NaN</td>\n",
              "      <td>NaN</td>\n",
              "      <td>NaN</td>\n",
              "      <td>NaN</td>\n",
              "      <td>NaN</td>\n",
              "      <td>NaN</td>\n",
              "      <td>NaN</td>\n",
              "      <td>NaN</td>\n",
              "      <td>NaN</td>\n",
              "      <td>NaN</td>\n",
              "    </tr>\n",
              "    <tr>\n",
              "      <th>2</th>\n",
              "      <td>yes</td>\n",
              "      <td>no</td>\n",
              "      <td>no</td>\n",
              "      <td>Dataphone (i.e. card payments),POS system (i.e...</td>\n",
              "      <td>yes</td>\n",
              "      <td>Redes sociales (e.g. Facebook, Instagram),What...</td>\n",
              "      <td>Efectivo,Tarjeta de débito y/o crédito</td>\n",
              "      <td>Redes sociales</td>\n",
              "      <td>yes</td>\n",
              "      <td>no</td>\n",
              "      <td>NaN</td>\n",
              "      <td>NaN</td>\n",
              "      <td>NaN</td>\n",
              "      <td>NaN</td>\n",
              "      <td>NaN</td>\n",
              "      <td>NaN</td>\n",
              "      <td>NaN</td>\n",
              "      <td>NaN</td>\n",
              "      <td>NaN</td>\n",
              "      <td>NaN</td>\n",
              "    </tr>\n",
              "    <tr>\n",
              "      <th>3</th>\n",
              "      <td>no</td>\n",
              "      <td>no</td>\n",
              "      <td>no</td>\n",
              "      <td>POS system (i.e. computer + bar code scanner +...</td>\n",
              "      <td>yes</td>\n",
              "      <td>Llamada a Teléfono fijo</td>\n",
              "      <td>Efectivo,Tarjeta de débito y/o crédito,Transfe...</td>\n",
              "      <td>Teléfono</td>\n",
              "      <td>no</td>\n",
              "      <td>no</td>\n",
              "      <td>NaN</td>\n",
              "      <td>NaN</td>\n",
              "      <td>NaN</td>\n",
              "      <td>NaN</td>\n",
              "      <td>NaN</td>\n",
              "      <td>NaN</td>\n",
              "      <td>NaN</td>\n",
              "      <td>NaN</td>\n",
              "      <td>NaN</td>\n",
              "      <td>NaN</td>\n",
              "    </tr>\n",
              "    <tr>\n",
              "      <th>4</th>\n",
              "      <td>yes</td>\n",
              "      <td>no</td>\n",
              "      <td>no</td>\n",
              "      <td>Smartphone</td>\n",
              "      <td>yes</td>\n",
              "      <td>Llamada a Teléfono celular</td>\n",
              "      <td>Efectivo,Tarjeta de débito y/o crédito,Transfe...</td>\n",
              "      <td>NaN</td>\n",
              "      <td>yes</td>\n",
              "      <td>no</td>\n",
              "      <td>NaN</td>\n",
              "      <td>NaN</td>\n",
              "      <td>NaN</td>\n",
              "      <td>NaN</td>\n",
              "      <td>NaN</td>\n",
              "      <td>NaN</td>\n",
              "      <td>NaN</td>\n",
              "      <td>NaN</td>\n",
              "      <td>NaN</td>\n",
              "      <td>NaN</td>\n",
              "    </tr>\n",
              "    <tr>\n",
              "      <th>...</th>\n",
              "      <td>...</td>\n",
              "      <td>...</td>\n",
              "      <td>...</td>\n",
              "      <td>...</td>\n",
              "      <td>...</td>\n",
              "      <td>...</td>\n",
              "      <td>...</td>\n",
              "      <td>...</td>\n",
              "      <td>...</td>\n",
              "      <td>...</td>\n",
              "      <td>...</td>\n",
              "      <td>...</td>\n",
              "      <td>...</td>\n",
              "      <td>...</td>\n",
              "      <td>...</td>\n",
              "      <td>...</td>\n",
              "      <td>...</td>\n",
              "      <td>...</td>\n",
              "      <td>...</td>\n",
              "      <td>...</td>\n",
              "    </tr>\n",
              "    <tr>\n",
              "      <th>166</th>\n",
              "      <td>yes</td>\n",
              "      <td>no</td>\n",
              "      <td>no</td>\n",
              "      <td>Analog cash register,Smartphone</td>\n",
              "      <td>NaN</td>\n",
              "      <td>NaN</td>\n",
              "      <td>NaN</td>\n",
              "      <td>NaN</td>\n",
              "      <td>NaN</td>\n",
              "      <td>NaN</td>\n",
              "      <td>NaN</td>\n",
              "      <td>NaN</td>\n",
              "      <td>NaN</td>\n",
              "      <td>NaN</td>\n",
              "      <td>NaN</td>\n",
              "      <td>NaN</td>\n",
              "      <td>NaN</td>\n",
              "      <td>NaN</td>\n",
              "      <td>NaN</td>\n",
              "      <td>NaN</td>\n",
              "    </tr>\n",
              "    <tr>\n",
              "      <th>167</th>\n",
              "      <td>no</td>\n",
              "      <td>no</td>\n",
              "      <td>no</td>\n",
              "      <td>Analog cash register,Smartphone</td>\n",
              "      <td>NaN</td>\n",
              "      <td>NaN</td>\n",
              "      <td>NaN</td>\n",
              "      <td>NaN</td>\n",
              "      <td>NaN</td>\n",
              "      <td>NaN</td>\n",
              "      <td>NaN</td>\n",
              "      <td>NaN</td>\n",
              "      <td>NaN</td>\n",
              "      <td>NaN</td>\n",
              "      <td>NaN</td>\n",
              "      <td>NaN</td>\n",
              "      <td>NaN</td>\n",
              "      <td>NaN</td>\n",
              "      <td>NaN</td>\n",
              "      <td>NaN</td>\n",
              "    </tr>\n",
              "    <tr>\n",
              "      <th>168</th>\n",
              "      <td>yes</td>\n",
              "      <td>no</td>\n",
              "      <td>yes</td>\n",
              "      <td>Smartphone</td>\n",
              "      <td>NaN</td>\n",
              "      <td>NaN</td>\n",
              "      <td>NaN</td>\n",
              "      <td>NaN</td>\n",
              "      <td>NaN</td>\n",
              "      <td>NaN</td>\n",
              "      <td>NaN</td>\n",
              "      <td>NaN</td>\n",
              "      <td>NaN</td>\n",
              "      <td>NaN</td>\n",
              "      <td>NaN</td>\n",
              "      <td>NaN</td>\n",
              "      <td>NaN</td>\n",
              "      <td>NaN</td>\n",
              "      <td>NaN</td>\n",
              "      <td>NaN</td>\n",
              "    </tr>\n",
              "    <tr>\n",
              "      <th>169</th>\n",
              "      <td>no</td>\n",
              "      <td>no</td>\n",
              "      <td>yes</td>\n",
              "      <td>Analog cash register</td>\n",
              "      <td>NaN</td>\n",
              "      <td>NaN</td>\n",
              "      <td>NaN</td>\n",
              "      <td>NaN</td>\n",
              "      <td>NaN</td>\n",
              "      <td>NaN</td>\n",
              "      <td>NaN</td>\n",
              "      <td>NaN</td>\n",
              "      <td>NaN</td>\n",
              "      <td>NaN</td>\n",
              "      <td>NaN</td>\n",
              "      <td>NaN</td>\n",
              "      <td>NaN</td>\n",
              "      <td>NaN</td>\n",
              "      <td>NaN</td>\n",
              "      <td>NaN</td>\n",
              "    </tr>\n",
              "    <tr>\n",
              "      <th>170</th>\n",
              "      <td>no</td>\n",
              "      <td>no</td>\n",
              "      <td>yes</td>\n",
              "      <td>Smartphone</td>\n",
              "      <td>NaN</td>\n",
              "      <td>NaN</td>\n",
              "      <td>NaN</td>\n",
              "      <td>NaN</td>\n",
              "      <td>NaN</td>\n",
              "      <td>NaN</td>\n",
              "      <td>NaN</td>\n",
              "      <td>NaN</td>\n",
              "      <td>NaN</td>\n",
              "      <td>NaN</td>\n",
              "      <td>NaN</td>\n",
              "      <td>NaN</td>\n",
              "      <td>NaN</td>\n",
              "      <td>NaN</td>\n",
              "      <td>NaN</td>\n",
              "      <td>NaN</td>\n",
              "    </tr>\n",
              "  </tbody>\n",
              "</table>\n",
              "<p>171 rows × 20 columns</p>\n",
              "</div>\n",
              "    <div class=\"colab-df-buttons\">\n",
              "\n",
              "  <div class=\"colab-df-container\">\n",
              "    <button class=\"colab-df-convert\" onclick=\"convertToInteractive('df-e518a6f3-28e6-45ff-8711-f208482007ee')\"\n",
              "            title=\"Convert this dataframe to an interactive table.\"\n",
              "            style=\"display:none;\">\n",
              "\n",
              "  <svg xmlns=\"http://www.w3.org/2000/svg\" height=\"24px\" viewBox=\"0 -960 960 960\">\n",
              "    <path d=\"M120-120v-720h720v720H120Zm60-500h600v-160H180v160Zm220 220h160v-160H400v160Zm0 220h160v-160H400v160ZM180-400h160v-160H180v160Zm440 0h160v-160H620v160ZM180-180h160v-160H180v160Zm440 0h160v-160H620v160Z\"/>\n",
              "  </svg>\n",
              "    </button>\n",
              "\n",
              "  <style>\n",
              "    .colab-df-container {\n",
              "      display:flex;\n",
              "      gap: 12px;\n",
              "    }\n",
              "\n",
              "    .colab-df-convert {\n",
              "      background-color: #E8F0FE;\n",
              "      border: none;\n",
              "      border-radius: 50%;\n",
              "      cursor: pointer;\n",
              "      display: none;\n",
              "      fill: #1967D2;\n",
              "      height: 32px;\n",
              "      padding: 0 0 0 0;\n",
              "      width: 32px;\n",
              "    }\n",
              "\n",
              "    .colab-df-convert:hover {\n",
              "      background-color: #E2EBFA;\n",
              "      box-shadow: 0px 1px 2px rgba(60, 64, 67, 0.3), 0px 1px 3px 1px rgba(60, 64, 67, 0.15);\n",
              "      fill: #174EA6;\n",
              "    }\n",
              "\n",
              "    .colab-df-buttons div {\n",
              "      margin-bottom: 4px;\n",
              "    }\n",
              "\n",
              "    [theme=dark] .colab-df-convert {\n",
              "      background-color: #3B4455;\n",
              "      fill: #D2E3FC;\n",
              "    }\n",
              "\n",
              "    [theme=dark] .colab-df-convert:hover {\n",
              "      background-color: #434B5C;\n",
              "      box-shadow: 0px 1px 3px 1px rgba(0, 0, 0, 0.15);\n",
              "      filter: drop-shadow(0px 1px 2px rgba(0, 0, 0, 0.3));\n",
              "      fill: #FFFFFF;\n",
              "    }\n",
              "  </style>\n",
              "\n",
              "    <script>\n",
              "      const buttonEl =\n",
              "        document.querySelector('#df-e518a6f3-28e6-45ff-8711-f208482007ee button.colab-df-convert');\n",
              "      buttonEl.style.display =\n",
              "        google.colab.kernel.accessAllowed ? 'block' : 'none';\n",
              "\n",
              "      async function convertToInteractive(key) {\n",
              "        const element = document.querySelector('#df-e518a6f3-28e6-45ff-8711-f208482007ee');\n",
              "        const dataTable =\n",
              "          await google.colab.kernel.invokeFunction('convertToInteractive',\n",
              "                                                    [key], {});\n",
              "        if (!dataTable) return;\n",
              "\n",
              "        const docLinkHtml = 'Like what you see? Visit the ' +\n",
              "          '<a target=\"_blank\" href=https://colab.research.google.com/notebooks/data_table.ipynb>data table notebook</a>'\n",
              "          + ' to learn more about interactive tables.';\n",
              "        element.innerHTML = '';\n",
              "        dataTable['output_type'] = 'display_data';\n",
              "        await google.colab.output.renderOutput(dataTable, element);\n",
              "        const docLink = document.createElement('div');\n",
              "        docLink.innerHTML = docLinkHtml;\n",
              "        element.appendChild(docLink);\n",
              "      }\n",
              "    </script>\n",
              "  </div>\n",
              "\n",
              "\n",
              "<div id=\"df-9bb2ea2a-733d-4d52-8b7c-759686ddebe0\">\n",
              "  <button class=\"colab-df-quickchart\" onclick=\"quickchart('df-9bb2ea2a-733d-4d52-8b7c-759686ddebe0')\"\n",
              "            title=\"Suggest charts\"\n",
              "            style=\"display:none;\">\n",
              "\n",
              "<svg xmlns=\"http://www.w3.org/2000/svg\" height=\"24px\"viewBox=\"0 0 24 24\"\n",
              "     width=\"24px\">\n",
              "    <g>\n",
              "        <path d=\"M19 3H5c-1.1 0-2 .9-2 2v14c0 1.1.9 2 2 2h14c1.1 0 2-.9 2-2V5c0-1.1-.9-2-2-2zM9 17H7v-7h2v7zm4 0h-2V7h2v10zm4 0h-2v-4h2v4z\"/>\n",
              "    </g>\n",
              "</svg>\n",
              "  </button>\n",
              "\n",
              "<style>\n",
              "  .colab-df-quickchart {\n",
              "      --bg-color: #E8F0FE;\n",
              "      --fill-color: #1967D2;\n",
              "      --hover-bg-color: #E2EBFA;\n",
              "      --hover-fill-color: #174EA6;\n",
              "      --disabled-fill-color: #AAA;\n",
              "      --disabled-bg-color: #DDD;\n",
              "  }\n",
              "\n",
              "  [theme=dark] .colab-df-quickchart {\n",
              "      --bg-color: #3B4455;\n",
              "      --fill-color: #D2E3FC;\n",
              "      --hover-bg-color: #434B5C;\n",
              "      --hover-fill-color: #FFFFFF;\n",
              "      --disabled-bg-color: #3B4455;\n",
              "      --disabled-fill-color: #666;\n",
              "  }\n",
              "\n",
              "  .colab-df-quickchart {\n",
              "    background-color: var(--bg-color);\n",
              "    border: none;\n",
              "    border-radius: 50%;\n",
              "    cursor: pointer;\n",
              "    display: none;\n",
              "    fill: var(--fill-color);\n",
              "    height: 32px;\n",
              "    padding: 0;\n",
              "    width: 32px;\n",
              "  }\n",
              "\n",
              "  .colab-df-quickchart:hover {\n",
              "    background-color: var(--hover-bg-color);\n",
              "    box-shadow: 0 1px 2px rgba(60, 64, 67, 0.3), 0 1px 3px 1px rgba(60, 64, 67, 0.15);\n",
              "    fill: var(--button-hover-fill-color);\n",
              "  }\n",
              "\n",
              "  .colab-df-quickchart-complete:disabled,\n",
              "  .colab-df-quickchart-complete:disabled:hover {\n",
              "    background-color: var(--disabled-bg-color);\n",
              "    fill: var(--disabled-fill-color);\n",
              "    box-shadow: none;\n",
              "  }\n",
              "\n",
              "  .colab-df-spinner {\n",
              "    border: 2px solid var(--fill-color);\n",
              "    border-color: transparent;\n",
              "    border-bottom-color: var(--fill-color);\n",
              "    animation:\n",
              "      spin 1s steps(1) infinite;\n",
              "  }\n",
              "\n",
              "  @keyframes spin {\n",
              "    0% {\n",
              "      border-color: transparent;\n",
              "      border-bottom-color: var(--fill-color);\n",
              "      border-left-color: var(--fill-color);\n",
              "    }\n",
              "    20% {\n",
              "      border-color: transparent;\n",
              "      border-left-color: var(--fill-color);\n",
              "      border-top-color: var(--fill-color);\n",
              "    }\n",
              "    30% {\n",
              "      border-color: transparent;\n",
              "      border-left-color: var(--fill-color);\n",
              "      border-top-color: var(--fill-color);\n",
              "      border-right-color: var(--fill-color);\n",
              "    }\n",
              "    40% {\n",
              "      border-color: transparent;\n",
              "      border-right-color: var(--fill-color);\n",
              "      border-top-color: var(--fill-color);\n",
              "    }\n",
              "    60% {\n",
              "      border-color: transparent;\n",
              "      border-right-color: var(--fill-color);\n",
              "    }\n",
              "    80% {\n",
              "      border-color: transparent;\n",
              "      border-right-color: var(--fill-color);\n",
              "      border-bottom-color: var(--fill-color);\n",
              "    }\n",
              "    90% {\n",
              "      border-color: transparent;\n",
              "      border-bottom-color: var(--fill-color);\n",
              "    }\n",
              "  }\n",
              "</style>\n",
              "\n",
              "  <script>\n",
              "    async function quickchart(key) {\n",
              "      const quickchartButtonEl =\n",
              "        document.querySelector('#' + key + ' button');\n",
              "      quickchartButtonEl.disabled = true;  // To prevent multiple clicks.\n",
              "      quickchartButtonEl.classList.add('colab-df-spinner');\n",
              "      try {\n",
              "        const charts = await google.colab.kernel.invokeFunction(\n",
              "            'suggestCharts', [key], {});\n",
              "      } catch (error) {\n",
              "        console.error('Error during call to suggestCharts:', error);\n",
              "      }\n",
              "      quickchartButtonEl.classList.remove('colab-df-spinner');\n",
              "      quickchartButtonEl.classList.add('colab-df-quickchart-complete');\n",
              "    }\n",
              "    (() => {\n",
              "      let quickchartButtonEl =\n",
              "        document.querySelector('#df-9bb2ea2a-733d-4d52-8b7c-759686ddebe0 button');\n",
              "      quickchartButtonEl.style.display =\n",
              "        google.colab.kernel.accessAllowed ? 'block' : 'none';\n",
              "    })();\n",
              "  </script>\n",
              "</div>\n",
              "    </div>\n",
              "  </div>\n"
            ]
          },
          "metadata": {},
          "execution_count": 32
        }
      ]
    },
    {
      "cell_type": "code",
      "source": [
        "valores_nulos=f.isnull().sum()\n",
        "valores_nulos"
      ],
      "metadata": {
        "id": "vRCmpAXP0ENu"
      },
      "execution_count": null,
      "outputs": []
    },
    {
      "cell_type": "code",
      "source": [
        "data = f.copy()"
      ],
      "metadata": {
        "id": "CZ5vPtCx0Ua4"
      },
      "execution_count": null,
      "outputs": []
    },
    {
      "cell_type": "code",
      "source": [
        "data['184_store_devices'] = data['184_store_devices'].fillna(method=\"ffill\")"
      ],
      "metadata": {
        "id": "FCskztlg0d8U"
      },
      "execution_count": null,
      "outputs": []
    },
    {
      "cell_type": "code",
      "source": [
        "valores_nulos=data.isnull().sum()\n",
        "valores_nulos"
      ],
      "metadata": {
        "id": "TSAj7nfk0_os"
      },
      "execution_count": null,
      "outputs": []
    },
    {
      "cell_type": "code",
      "source": [
        "data['186_internet_connection'] = data['186_internet_connection'].fillna(\"no_data\")\n",
        "valores_nulos=data.isnull().sum()\n",
        "valores_nulos"
      ],
      "metadata": {
        "id": "gYK3kJJq1SEm"
      },
      "execution_count": null,
      "outputs": []
    },
    {
      "cell_type": "code",
      "source": [
        "data['210_sales_channels'] = data['210_sales_channels'].fillna(\"no_data\")\n",
        "valores_nulos=data.isnull().sum()\n",
        "valores_nulos"
      ],
      "metadata": {
        "id": "jfCuuDDy2Y_y"
      },
      "execution_count": null,
      "outputs": []
    },
    {
      "cell_type": "code",
      "source": [
        "data['189_payment_methods'] = data['189_payment_methods'].fillna(\"Efectivo\")\n",
        "valores_nulos=data.isnull().sum()\n",
        "valores_nulos"
      ],
      "metadata": {
        "id": "SnaEcw7E2j46"
      },
      "execution_count": null,
      "outputs": []
    },
    {
      "cell_type": "code",
      "source": [
        "data['214_customer_relationship_tools'] = data['214_customer_relationship_tools'].fillna(\"ninguna\")\n",
        "valores_nulos=data.isnull().sum()\n",
        "valores_nulos"
      ],
      "metadata": {
        "id": "_jXTjnNF2uje"
      },
      "execution_count": null,
      "outputs": []
    },
    {
      "cell_type": "code",
      "source": [
        "data['33_credit_to_customers'] = data['33_credit_to_customers'].fillna(\"no_data\")\n",
        "valores_nulos=data.isnull().sum()\n",
        "valores_nulos"
      ],
      "metadata": {
        "id": "XE6n5gvE3bPA"
      },
      "execution_count": null,
      "outputs": []
    },
    {
      "cell_type": "code",
      "source": [
        "data['227_agreement_ecommerce_platforms'] = data['227_agreement_ecommerce_platforms'].fillna(\"no_data\")\n",
        "valores_nulos=data.isnull().sum()\n",
        "valores_nulos"
      ],
      "metadata": {
        "id": "nVRSxZUC3lbV"
      },
      "execution_count": null,
      "outputs": []
    },
    {
      "cell_type": "code",
      "source": [
        "data['312_payment_of_utilities'] = data['312_payment_of_utilities'].fillna(\"Ni de acuerdo ni en desacuerdo\")\n",
        "valores_nulos=data.isnull().sum()\n",
        "valores_nulos"
      ],
      "metadata": {
        "id": "I9WyGZfD31CI"
      },
      "execution_count": null,
      "outputs": []
    },
    {
      "cell_type": "code",
      "source": [
        "data['313_home_deliveries'] = data['313_home_deliveries'].fillna(\"Ni de acuerdo ni en desacuerdo\")\n",
        "valores_nulos=data.isnull().sum()\n",
        "valores_nulos"
      ],
      "metadata": {
        "id": "r89z-bF64NB5"
      },
      "execution_count": null,
      "outputs": []
    },
    {
      "cell_type": "code",
      "source": [
        "data['314_reception_delivery_packages'] = data['314_reception_delivery_packages'].fillna(\"Ni de acuerdo ni en desacuerdo\")\n",
        "valores_nulos=data.isnull().sum()\n",
        "valores_nulos"
      ],
      "metadata": {
        "id": "eJweYKCL4eq6"
      },
      "execution_count": null,
      "outputs": []
    },
    {
      "cell_type": "code",
      "source": [
        "data['42_willingness_share_inventory_data_suppliers'] = data['42_willingness_share_inventory_data_suppliers'].fillna(\"Ni de acuerdo ni en desacuerdo\")\n",
        "valores_nulos=data.isnull().sum()\n",
        "valores_nulos"
      ],
      "metadata": {
        "id": "y9KwJ6qw4iI5"
      },
      "execution_count": null,
      "outputs": []
    },
    {
      "cell_type": "code",
      "source": [
        "data['44_willingness_inventory_management_suppliers'] = data['44_willingness_inventory_management_suppliers'].fillna(\"Ni de acuerdo ni en desacuerdo\")\n",
        "valores_nulos=data.isnull().sum()\n",
        "valores_nulos"
      ],
      "metadata": {
        "id": "DIunyU5w4tXi"
      },
      "execution_count": null,
      "outputs": []
    },
    {
      "cell_type": "code",
      "source": [
        "data['45_willingness_reorder_suppliers'] = data['45_willingness_reorder_suppliers'].fillna(\"Ni de acuerdo ni en desacuerdo\")\n",
        "valores_nulos=data.isnull().sum()\n",
        "valores_nulos"
      ],
      "metadata": {
        "id": "rPoPF05g40LY"
      },
      "execution_count": null,
      "outputs": []
    },
    {
      "cell_type": "code",
      "source": [
        "data['46_willingness_reorder_suppliers_variety'] = data['46_willingness_reorder_suppliers_variety'].fillna(\"Ni de acuerdo ni en desacuerdo\")\n",
        "valores_nulos=data.isnull().sum()\n",
        "valores_nulos"
      ],
      "metadata": {
        "id": "r3KfeEDN47pl"
      },
      "execution_count": null,
      "outputs": []
    },
    {
      "cell_type": "code",
      "source": [
        "data['47_willingness_reorder_suppliers_lower_prices'] = data['47_willingness_reorder_suppliers_lower_prices'].fillna(\"Ni de acuerdo ni en desacuerdo\")\n",
        "valores_nulos=data.isnull().sum()\n",
        "valores_nulos"
      ],
      "metadata": {
        "id": "xQZIYcT95Aqs"
      },
      "execution_count": null,
      "outputs": []
    },
    {
      "cell_type": "code",
      "source": [
        "data['43_willingness_share_sales_data_suppliers'] = data['43_willingness_share_sales_data_suppliers'].fillna(\"Ni de acuerdo ni en desacuerdo\")\n",
        "valores_nulos=data.isnull().sum()\n",
        "valores_nulos"
      ],
      "metadata": {
        "id": "1M2-g3f_5LGa"
      },
      "execution_count": null,
      "outputs": []
    },
    {
      "cell_type": "code",
      "source": [
        "data['192_procurement_planning_tools'] = data['192_procurement_planning_tools'].fillna(\"no_data\")\n",
        "valores_nulos=data.isnull().sum()\n",
        "valores_nulos"
      ],
      "metadata": {
        "id": "5uGckOPa5ScF",
        "colab": {
          "base_uri": "https://localhost:8080/"
        },
        "outputId": "c640f62e-4735-42b9-e258-a80b95dfa0b7"
      },
      "execution_count": null,
      "outputs": [
        {
          "output_type": "execute_result",
          "data": {
            "text/plain": [
              "108_does_the_micro_retailer_has_a_barred_window_         0\n",
              "99_does_the_micro_retailer_exhibits_products_outside_    0\n",
              "102_does_the_micro_retailer_sells_fresh_products_        0\n",
              "184_store_devices                                        0\n",
              "186_internet_connection                                  0\n",
              "210_sales_channels                                       0\n",
              "189_payment_methods                                      0\n",
              "214_customer_relationship_tools                          0\n",
              "33_credit_to_customers                                   0\n",
              "227_agreement_ecommerce_platforms                        0\n",
              "312_payment_of_utilities                                 0\n",
              "313_home_deliveries                                      0\n",
              "314_reception_delivery_packages                          0\n",
              "42_willingness_share_inventory_data_suppliers            0\n",
              "44_willingness_inventory_management_suppliers            0\n",
              "45_willingness_reorder_suppliers                         0\n",
              "46_willingness_reorder_suppliers_variety                 0\n",
              "47_willingness_reorder_suppliers_lower_prices            0\n",
              "43_willingness_share_sales_data_suppliers                0\n",
              "192_procurement_planning_tools                           0\n",
              "dtype: int64"
            ]
          },
          "metadata": {},
          "execution_count": 46
        }
      ]
    },
    {
      "cell_type": "code",
      "source": [
        "valores_nulos=data.isnull().sum().sum()\n",
        "valores_nulos"
      ],
      "metadata": {
        "id": "o1LNd8m35hd-",
        "colab": {
          "base_uri": "https://localhost:8080/"
        },
        "outputId": "2af1c00c-71e8-4d19-fb81-f2ce3545d0e2"
      },
      "execution_count": null,
      "outputs": [
        {
          "output_type": "execute_result",
          "data": {
            "text/plain": [
              "0"
            ]
          },
          "metadata": {},
          "execution_count": 28
        }
      ]
    },
    {
      "cell_type": "code",
      "source": [
        "freq_tbl(f)"
      ],
      "metadata": {
        "id": "wFancSV35xOD"
      },
      "execution_count": null,
      "outputs": []
    },
    {
      "cell_type": "code",
      "source": [
        "table1 = freq_tbl(data['108_does_the_micro_retailer_has_a_barred_window_'])\n",
        "table1"
      ],
      "metadata": {
        "id": "WfnUsadrEKcz"
      },
      "execution_count": null,
      "outputs": []
    },
    {
      "cell_type": "code",
      "source": [
        "filtro1 = table1[table1['frequency']>1]\n",
        "filtro1"
      ],
      "metadata": {
        "id": "wjATegkuECn-"
      },
      "execution_count": null,
      "outputs": []
    },
    {
      "cell_type": "code",
      "source": [
        "filtro1_index=filtro1.set_index('108_does_the_micro_retailer_has_a_barred_window_')\n",
        "filtro1.index"
      ],
      "metadata": {
        "id": "xxXcHiuCE6bu"
      },
      "execution_count": null,
      "outputs": []
    },
    {
      "cell_type": "code",
      "source": [
        "filtro1_index[\"frequency\"].plot(kind='pie',figsize = (10,5), shadow = True, autopct = '%0.1f %%')\n",
        "plt.title('does_the_micro_retailer_has_a_barred_window')"
      ],
      "metadata": {
        "id": "GtmlVyGpFBLH"
      },
      "execution_count": null,
      "outputs": []
    },
    {
      "cell_type": "code",
      "source": [
        "table2 = freq_tbl(data['99_does_the_micro_retailer_exhibits_products_outside_'])\n",
        "table2"
      ],
      "metadata": {
        "id": "jOERTPgeGb7f"
      },
      "execution_count": null,
      "outputs": []
    },
    {
      "cell_type": "code",
      "source": [
        "filtro2 = table2[table2['frequency']>1]\n",
        "filtro2"
      ],
      "metadata": {
        "id": "7HvKZ22rGYGN"
      },
      "execution_count": null,
      "outputs": []
    },
    {
      "cell_type": "code",
      "source": [
        "filtro2_index=filtro2.set_index('99_does_the_micro_retailer_exhibits_products_outside_')\n",
        "filtro2.index"
      ],
      "metadata": {
        "id": "JkDoKHl_GR8E"
      },
      "execution_count": null,
      "outputs": []
    },
    {
      "cell_type": "code",
      "source": [
        "filtro2_index[\"frequency\"].plot(kind='pie',figsize = (10,5), shadow = True, autopct = '%0.1f %%')\n",
        "plt.title('does_the_micro_retailer_exhibits_products_outside')"
      ],
      "metadata": {
        "id": "ucFzvIpSFZp7"
      },
      "execution_count": null,
      "outputs": []
    },
    {
      "cell_type": "code",
      "source": [
        "table3 = freq_tbl(data['102_does_the_micro_retailer_sells_fresh_products_'])\n",
        "table3"
      ],
      "metadata": {
        "id": "UPYmhIruG7_P"
      },
      "execution_count": null,
      "outputs": []
    },
    {
      "cell_type": "code",
      "source": [
        "filtro3 = table3[table3['frequency']>1]\n",
        "filtro3"
      ],
      "metadata": {
        "id": "gxdcNiLvHA4m"
      },
      "execution_count": null,
      "outputs": []
    },
    {
      "cell_type": "code",
      "source": [
        "filtro3_index=filtro3.set_index('102_does_the_micro_retailer_sells_fresh_products_')\n",
        "filtro3.index"
      ],
      "metadata": {
        "id": "quFJ5yudHFQT"
      },
      "execution_count": null,
      "outputs": []
    },
    {
      "cell_type": "code",
      "source": [
        "filtro3_index[\"frequency\"].plot(kind='pie',figsize = (10,5), shadow = True, autopct = '%0.1f %%')\n",
        "plt.title('does_the_micro_retailer_sells_fresh_products')"
      ],
      "metadata": {
        "id": "Q3XFSoSXHKF8"
      },
      "execution_count": null,
      "outputs": []
    },
    {
      "cell_type": "code",
      "source": [
        "table4 = freq_tbl(data['184_store_devices'])\n",
        "table4"
      ],
      "metadata": {
        "id": "KPzLY4xNH09u"
      },
      "execution_count": null,
      "outputs": []
    },
    {
      "cell_type": "code",
      "source": [
        "filtro4 = table4[table4['frequency']>1]\n",
        "filtro4"
      ],
      "metadata": {
        "id": "f6l4YFVlH28f"
      },
      "execution_count": null,
      "outputs": []
    },
    {
      "cell_type": "code",
      "source": [
        "filtro4_index=filtro4.set_index('184_store_devices')\n",
        "filtro4.index"
      ],
      "metadata": {
        "id": "OzZyPqk6H34x"
      },
      "execution_count": null,
      "outputs": []
    },
    {
      "cell_type": "code",
      "source": [
        "filtro4_index.plot(kind = 'bar',width = 2 , figsize = (30,4))\n",
        "plt.title('store_devices')"
      ],
      "metadata": {
        "id": "Pot2FLvnH5m8"
      },
      "execution_count": null,
      "outputs": []
    },
    {
      "cell_type": "code",
      "source": [
        "table5 = freq_tbl(data['186_internet_connection'])\n",
        "table5"
      ],
      "metadata": {
        "id": "Y4zCxgHwJeCD"
      },
      "execution_count": null,
      "outputs": []
    },
    {
      "cell_type": "code",
      "source": [
        "filtro5 = table5[table5['frequency']>1]\n",
        "filtro5"
      ],
      "metadata": {
        "id": "pUM_tjH5Jgoe"
      },
      "execution_count": null,
      "outputs": []
    },
    {
      "cell_type": "code",
      "source": [
        "filtro5_index=filtro5.set_index('186_internet_connection')\n",
        "filtro5.index"
      ],
      "metadata": {
        "id": "BQ-epQosJgwS"
      },
      "execution_count": null,
      "outputs": []
    },
    {
      "cell_type": "code",
      "source": [
        "filtro5_index[\"frequency\"].plot(kind='pie',figsize = (10,5), shadow = True, autopct = '%0.1f %%')\n",
        "plt.title('internet_connection')"
      ],
      "metadata": {
        "id": "dRRXXu1tJg2M"
      },
      "execution_count": null,
      "outputs": []
    },
    {
      "cell_type": "code",
      "source": [
        "table6 = freq_tbl(data['210_sales_channels'])\n",
        "table6"
      ],
      "metadata": {
        "id": "tkjz5lFoK1c3"
      },
      "execution_count": null,
      "outputs": []
    },
    {
      "cell_type": "code",
      "source": [
        "filtro6 = table6[table6['frequency']>1]\n",
        "filtro6"
      ],
      "metadata": {
        "id": "hn5Vyy4cK1j_"
      },
      "execution_count": null,
      "outputs": []
    },
    {
      "cell_type": "code",
      "source": [
        "filtro6_index=filtro6.set_index('210_sales_channels')\n",
        "filtro6.index"
      ],
      "metadata": {
        "id": "pPxbMK19K1ox"
      },
      "execution_count": null,
      "outputs": []
    },
    {
      "cell_type": "code",
      "source": [
        "filtro6_index.plot(kind = 'bar',width = 2 , figsize = (20,4))\n",
        "plt.title('sales_channels')"
      ],
      "metadata": {
        "id": "-4DrQKy5K1st"
      },
      "execution_count": null,
      "outputs": []
    },
    {
      "cell_type": "code",
      "source": [
        "table7 = freq_tbl(data['189_payment_methods'])\n",
        "table7"
      ],
      "metadata": {
        "id": "KIRNPCghLZQb"
      },
      "execution_count": null,
      "outputs": []
    },
    {
      "cell_type": "code",
      "source": [
        "filtro7 = table7[table7['frequency']>1]\n",
        "filtro7"
      ],
      "metadata": {
        "id": "3JAsrhwHL218"
      },
      "execution_count": null,
      "outputs": []
    },
    {
      "cell_type": "code",
      "source": [
        "filtro7_index=filtro7.set_index('189_payment_methods')\n",
        "filtro7.index"
      ],
      "metadata": {
        "id": "OFNZ4ZHIL27y"
      },
      "execution_count": null,
      "outputs": []
    },
    {
      "cell_type": "code",
      "source": [
        "filtro7_index.plot(kind = 'bar',width = 1 , figsize = (10,4))\n",
        "plt.title('payment_methods')"
      ],
      "metadata": {
        "id": "uLmz_jxbL3Bv"
      },
      "execution_count": null,
      "outputs": []
    },
    {
      "cell_type": "code",
      "source": [
        "table8 = freq_tbl(data['214_customer_relationship_tools'])\n",
        "table8"
      ],
      "metadata": {
        "id": "u2ojYiDaMkOs"
      },
      "execution_count": null,
      "outputs": []
    },
    {
      "cell_type": "code",
      "source": [
        "filtro8 = table8[table8['frequency']>1]\n",
        "filtro8"
      ],
      "metadata": {
        "id": "TxNUBLkGMkTU"
      },
      "execution_count": null,
      "outputs": []
    },
    {
      "cell_type": "code",
      "source": [
        "filtro8_index=filtro8.set_index('214_customer_relationship_tools')\n",
        "filtro8.index"
      ],
      "metadata": {
        "id": "2eq3UEzWMkYa"
      },
      "execution_count": null,
      "outputs": []
    },
    {
      "cell_type": "code",
      "source": [
        "filtro8_index[\"frequency\"].plot(kind='pie',figsize = (10,5), shadow = True, autopct = '%0.1f %%')\n",
        "plt.title('customer_relationship_tools')"
      ],
      "metadata": {
        "id": "PRgLuRb_Mkfj"
      },
      "execution_count": null,
      "outputs": []
    },
    {
      "cell_type": "code",
      "source": [
        "table9 = freq_tbl(data['33_credit_to_customers'])\n",
        "table9"
      ],
      "metadata": {
        "id": "njVYWZmmNPuK"
      },
      "execution_count": null,
      "outputs": []
    },
    {
      "cell_type": "code",
      "source": [
        "filtro9 = table9[table9['frequency']>1]\n",
        "filtro9"
      ],
      "metadata": {
        "id": "4tKHA9etNP1F"
      },
      "execution_count": null,
      "outputs": []
    },
    {
      "cell_type": "code",
      "source": [
        "filtro9_index=filtro9.set_index('33_credit_to_customers')\n",
        "filtro9.index"
      ],
      "metadata": {
        "id": "EvIv5DSDNP47"
      },
      "execution_count": null,
      "outputs": []
    },
    {
      "cell_type": "code",
      "source": [
        "filtro9_index[\"frequency\"].plot(kind='pie',figsize = (10,5), shadow = True, autopct = '%0.1f %%')\n",
        "plt.title('credit_to_customers')"
      ],
      "metadata": {
        "id": "whBhKYl6NP7c"
      },
      "execution_count": null,
      "outputs": []
    },
    {
      "cell_type": "code",
      "source": [
        "table10 = freq_tbl(data['227_agreement_ecommerce_platforms'])\n",
        "table10"
      ],
      "metadata": {
        "id": "9lpdv2ChNP9k"
      },
      "execution_count": null,
      "outputs": []
    },
    {
      "cell_type": "code",
      "source": [
        "filtro10 = table10[table10['frequency']>1]\n",
        "filtro10"
      ],
      "metadata": {
        "id": "SNy41KaaN6We"
      },
      "execution_count": null,
      "outputs": []
    },
    {
      "cell_type": "code",
      "source": [
        "filtro10_index=filtro10.set_index('227_agreement_ecommerce_platforms')\n",
        "filtro10.index"
      ],
      "metadata": {
        "id": "aICtcjNiN6aH"
      },
      "execution_count": null,
      "outputs": []
    },
    {
      "cell_type": "code",
      "source": [
        "filtro10_index[\"frequency\"].plot(kind='pie',figsize = (10,5), shadow = True, autopct = '%0.1f %%')\n",
        "plt.title('agreement_ecommerce_platforms')"
      ],
      "metadata": {
        "id": "hLrj1pHrN6dW"
      },
      "execution_count": null,
      "outputs": []
    },
    {
      "cell_type": "code",
      "source": [
        "table11 = freq_tbl(data['312_payment_of_utilities'])\n",
        "table11"
      ],
      "metadata": {
        "id": "iyUzGA4EOjFg"
      },
      "execution_count": null,
      "outputs": []
    },
    {
      "cell_type": "code",
      "source": [
        "filtro11 = table11[table11['frequency']>1]\n",
        "filtro11"
      ],
      "metadata": {
        "id": "6haJsnKAOjI3"
      },
      "execution_count": null,
      "outputs": []
    },
    {
      "cell_type": "code",
      "source": [
        "filtro11_index=filtro11.set_index('312_payment_of_utilities')\n",
        "filtro11.index"
      ],
      "metadata": {
        "id": "Q9a_zBEXOjLg"
      },
      "execution_count": null,
      "outputs": []
    },
    {
      "cell_type": "code",
      "source": [
        "filtro11_index.plot(kind = 'area', figsize=(20,4),alpha = 0.5)\n",
        "plt.title('payment_of_utilities')"
      ],
      "metadata": {
        "id": "0eqaA07nOjNk"
      },
      "execution_count": null,
      "outputs": []
    },
    {
      "cell_type": "code",
      "source": [
        "table12 = freq_tbl(data['313_home_deliveries'])\n",
        "table12"
      ],
      "metadata": {
        "id": "C1CInQDSPvY8"
      },
      "execution_count": null,
      "outputs": []
    },
    {
      "cell_type": "code",
      "source": [
        "filtro12 = table12[table12['frequency']>1]\n",
        "filtro12"
      ],
      "metadata": {
        "id": "TYsoyy5BPvfY"
      },
      "execution_count": null,
      "outputs": []
    },
    {
      "cell_type": "code",
      "source": [
        "filtro12_index=filtro12.set_index('313_home_deliveries')\n",
        "filtro12.index"
      ],
      "metadata": {
        "id": "PWZNOmLuPvkZ"
      },
      "execution_count": null,
      "outputs": []
    },
    {
      "cell_type": "code",
      "source": [
        "filtro12_index.plot(kind = 'area', figsize=(20,4),alpha = 0.5)\n",
        "plt.title('home_deliveries')"
      ],
      "metadata": {
        "id": "kR4eaaCGPvpM"
      },
      "execution_count": null,
      "outputs": []
    },
    {
      "cell_type": "code",
      "source": [
        "table13 = freq_tbl(data['314_reception_delivery_packages'])\n",
        "table13"
      ],
      "metadata": {
        "id": "0BQpftAiQLiq"
      },
      "execution_count": null,
      "outputs": []
    },
    {
      "cell_type": "code",
      "source": [
        "filtro13 = table13[table13['frequency']>1]\n",
        "filtro13"
      ],
      "metadata": {
        "id": "ZyyvBK_LQLo1"
      },
      "execution_count": null,
      "outputs": []
    },
    {
      "cell_type": "code",
      "source": [
        "filtro13_index=filtro13.set_index('314_reception_delivery_packages')\n",
        "filtro13.index"
      ],
      "metadata": {
        "id": "NZPOxgATQLuv"
      },
      "execution_count": null,
      "outputs": []
    },
    {
      "cell_type": "code",
      "source": [
        "filtro13_index.plot(kind = 'area', figsize=(20,4),alpha = 0.5)\n",
        "plt.title('reception_delivery_packages')"
      ],
      "metadata": {
        "id": "Y6xg3kXvQLzR"
      },
      "execution_count": null,
      "outputs": []
    },
    {
      "cell_type": "code",
      "source": [
        "table14 = freq_tbl(data['42_willingness_share_inventory_data_suppliers'])\n",
        "table14"
      ],
      "metadata": {
        "id": "UqmDDaC7Qq5Y"
      },
      "execution_count": null,
      "outputs": []
    },
    {
      "cell_type": "code",
      "source": [
        "filtro14 = table14[table14['frequency']>1]\n",
        "filtro14"
      ],
      "metadata": {
        "id": "fLTaFsslQq7q"
      },
      "execution_count": null,
      "outputs": []
    },
    {
      "cell_type": "code",
      "source": [
        "filtro14_index=filtro14.set_index('42_willingness_share_inventory_data_suppliers')\n",
        "filtro14.index"
      ],
      "metadata": {
        "id": "ecKdEDKxQq97"
      },
      "execution_count": null,
      "outputs": []
    },
    {
      "cell_type": "code",
      "source": [
        "filtro14_index.plot(kind = 'area', figsize=(20,4),alpha = 0.5)\n",
        "plt.title('willingness_share_inventory_data_suppliers')"
      ],
      "metadata": {
        "id": "pjRfx98_Qq_9"
      },
      "execution_count": null,
      "outputs": []
    },
    {
      "cell_type": "code",
      "source": [
        "table15 = freq_tbl(data['44_willingness_inventory_management_suppliers'])\n",
        "table15"
      ],
      "metadata": {
        "id": "KUJ8eA45RWiX"
      },
      "execution_count": null,
      "outputs": []
    },
    {
      "cell_type": "code",
      "source": [
        "filtro15 = table15[table15['frequency']>1]\n",
        "filtro15"
      ],
      "metadata": {
        "id": "Vr0Uh_mtRWky"
      },
      "execution_count": null,
      "outputs": []
    },
    {
      "cell_type": "code",
      "source": [
        "filtro15_index=filtro15.set_index('44_willingness_inventory_management_suppliers')\n",
        "filtro15.index"
      ],
      "metadata": {
        "id": "Ibu2YeiYRWm_"
      },
      "execution_count": null,
      "outputs": []
    },
    {
      "cell_type": "code",
      "source": [
        "filtro15_index.plot(kind = 'area', figsize=(20,4),alpha = 0.5)\n",
        "plt.title('willingness_inventory_management_suppliers')"
      ],
      "metadata": {
        "id": "Rb4gRoDJRWpa"
      },
      "execution_count": null,
      "outputs": []
    },
    {
      "cell_type": "code",
      "source": [
        "table16 = freq_tbl(data['45_willingness_reorder_suppliers'])\n",
        "table16"
      ],
      "metadata": {
        "id": "_3arMpz-R-9X"
      },
      "execution_count": null,
      "outputs": []
    },
    {
      "cell_type": "code",
      "source": [
        "filtro16 = table16[table16['frequency']>1]\n",
        "filtro16"
      ],
      "metadata": {
        "id": "hK7vA-uhR-_u"
      },
      "execution_count": null,
      "outputs": []
    },
    {
      "cell_type": "code",
      "source": [
        "filtro16_index=filtro16.set_index('45_willingness_reorder_suppliers')\n",
        "filtro16.index"
      ],
      "metadata": {
        "id": "ua0FRI_4R_CU"
      },
      "execution_count": null,
      "outputs": []
    },
    {
      "cell_type": "code",
      "source": [
        "filtro16_index.plot(kind = 'area', figsize=(20,4),alpha = 0.5)\n",
        "plt.title('willingness_reorder_suppliers')"
      ],
      "metadata": {
        "id": "QPs3JQuCR_En"
      },
      "execution_count": null,
      "outputs": []
    },
    {
      "cell_type": "code",
      "source": [
        "table17 = freq_tbl(data['46_willingness_reorder_suppliers_variety'])\n",
        "table17"
      ],
      "metadata": {
        "id": "wGv4YLdlSlXg"
      },
      "execution_count": null,
      "outputs": []
    },
    {
      "cell_type": "code",
      "source": [
        "filtro17 = table17[table17['frequency']>1]\n",
        "filtro17"
      ],
      "metadata": {
        "id": "C18_RGYbSlc0"
      },
      "execution_count": null,
      "outputs": []
    },
    {
      "cell_type": "code",
      "source": [
        "filtro17_index=filtro17.set_index('46_willingness_reorder_suppliers_variety')\n",
        "filtro17.index"
      ],
      "metadata": {
        "id": "61EM1aUkSlij"
      },
      "execution_count": null,
      "outputs": []
    },
    {
      "cell_type": "code",
      "source": [
        "filtro17_index.plot(kind = 'area', figsize=(20,4),alpha = 0.5)\n",
        "plt.title('willingness_reorder_suppliers_variety')"
      ],
      "metadata": {
        "id": "j5NP23p6Slm5"
      },
      "execution_count": null,
      "outputs": []
    },
    {
      "cell_type": "code",
      "source": [
        "table18 = freq_tbl(data['47_willingness_reorder_suppliers_lower_prices'])\n",
        "table18"
      ],
      "metadata": {
        "id": "XEs8dnO5Tx53"
      },
      "execution_count": null,
      "outputs": []
    },
    {
      "cell_type": "code",
      "source": [
        "filtro18 = table18[table18['frequency']>1]\n",
        "filtro18"
      ],
      "metadata": {
        "id": "UtO_8H-aTx8L"
      },
      "execution_count": null,
      "outputs": []
    },
    {
      "cell_type": "code",
      "source": [
        "filtro18_index=filtro18.set_index('47_willingness_reorder_suppliers_lower_prices')\n",
        "filtro18.index"
      ],
      "metadata": {
        "id": "8nmTCYidTx-7"
      },
      "execution_count": null,
      "outputs": []
    },
    {
      "cell_type": "code",
      "source": [
        "filtro18_index.plot(kind = 'area', figsize=(20,4),alpha = 0.5)\n",
        "plt.title('willingness_reorder_suppliers_lower_prices')"
      ],
      "metadata": {
        "id": "tOlU1Ib3TyA6"
      },
      "execution_count": null,
      "outputs": []
    },
    {
      "cell_type": "code",
      "source": [
        "table19 = freq_tbl(data['43_willingness_share_sales_data_suppliers'])\n",
        "table19"
      ],
      "metadata": {
        "colab": {
          "base_uri": "https://localhost:8080/",
          "height": 206
        },
        "id": "5t098kTYUKp4",
        "outputId": "66699b8d-c242-4d89-ce83-507615aca443"
      },
      "execution_count": null,
      "outputs": [
        {
          "output_type": "execute_result",
          "data": {
            "text/plain": [
              "  43_willingness_share_sales_data_suppliers  frequency  percentage  \\\n",
              "0            Ni de acuerdo ni en desacuerdo        103    0.602339   \n",
              "1                  Totalmente en desacuerdo         53    0.309942   \n",
              "2                           Algo de acuerdo          7    0.040936   \n",
              "3                        Algo en desacuerdo          5    0.029240   \n",
              "4                     Totalmente de acuerdo          3    0.017544   \n",
              "\n",
              "   cumulative_perc  \n",
              "0         0.602339  \n",
              "1         0.912281  \n",
              "2         0.953216  \n",
              "3         0.982456  \n",
              "4         1.000000  "
            ],
            "text/html": [
              "\n",
              "  <div id=\"df-37387749-7a05-4667-ab32-2035e4ad763f\" class=\"colab-df-container\">\n",
              "    <div>\n",
              "<style scoped>\n",
              "    .dataframe tbody tr th:only-of-type {\n",
              "        vertical-align: middle;\n",
              "    }\n",
              "\n",
              "    .dataframe tbody tr th {\n",
              "        vertical-align: top;\n",
              "    }\n",
              "\n",
              "    .dataframe thead th {\n",
              "        text-align: right;\n",
              "    }\n",
              "</style>\n",
              "<table border=\"1\" class=\"dataframe\">\n",
              "  <thead>\n",
              "    <tr style=\"text-align: right;\">\n",
              "      <th></th>\n",
              "      <th>43_willingness_share_sales_data_suppliers</th>\n",
              "      <th>frequency</th>\n",
              "      <th>percentage</th>\n",
              "      <th>cumulative_perc</th>\n",
              "    </tr>\n",
              "  </thead>\n",
              "  <tbody>\n",
              "    <tr>\n",
              "      <th>0</th>\n",
              "      <td>Ni de acuerdo ni en desacuerdo</td>\n",
              "      <td>103</td>\n",
              "      <td>0.602339</td>\n",
              "      <td>0.602339</td>\n",
              "    </tr>\n",
              "    <tr>\n",
              "      <th>1</th>\n",
              "      <td>Totalmente en desacuerdo</td>\n",
              "      <td>53</td>\n",
              "      <td>0.309942</td>\n",
              "      <td>0.912281</td>\n",
              "    </tr>\n",
              "    <tr>\n",
              "      <th>2</th>\n",
              "      <td>Algo de acuerdo</td>\n",
              "      <td>7</td>\n",
              "      <td>0.040936</td>\n",
              "      <td>0.953216</td>\n",
              "    </tr>\n",
              "    <tr>\n",
              "      <th>3</th>\n",
              "      <td>Algo en desacuerdo</td>\n",
              "      <td>5</td>\n",
              "      <td>0.029240</td>\n",
              "      <td>0.982456</td>\n",
              "    </tr>\n",
              "    <tr>\n",
              "      <th>4</th>\n",
              "      <td>Totalmente de acuerdo</td>\n",
              "      <td>3</td>\n",
              "      <td>0.017544</td>\n",
              "      <td>1.000000</td>\n",
              "    </tr>\n",
              "  </tbody>\n",
              "</table>\n",
              "</div>\n",
              "    <div class=\"colab-df-buttons\">\n",
              "\n",
              "  <div class=\"colab-df-container\">\n",
              "    <button class=\"colab-df-convert\" onclick=\"convertToInteractive('df-37387749-7a05-4667-ab32-2035e4ad763f')\"\n",
              "            title=\"Convert this dataframe to an interactive table.\"\n",
              "            style=\"display:none;\">\n",
              "\n",
              "  <svg xmlns=\"http://www.w3.org/2000/svg\" height=\"24px\" viewBox=\"0 -960 960 960\">\n",
              "    <path d=\"M120-120v-720h720v720H120Zm60-500h600v-160H180v160Zm220 220h160v-160H400v160Zm0 220h160v-160H400v160ZM180-400h160v-160H180v160Zm440 0h160v-160H620v160ZM180-180h160v-160H180v160Zm440 0h160v-160H620v160Z\"/>\n",
              "  </svg>\n",
              "    </button>\n",
              "\n",
              "  <style>\n",
              "    .colab-df-container {\n",
              "      display:flex;\n",
              "      gap: 12px;\n",
              "    }\n",
              "\n",
              "    .colab-df-convert {\n",
              "      background-color: #E8F0FE;\n",
              "      border: none;\n",
              "      border-radius: 50%;\n",
              "      cursor: pointer;\n",
              "      display: none;\n",
              "      fill: #1967D2;\n",
              "      height: 32px;\n",
              "      padding: 0 0 0 0;\n",
              "      width: 32px;\n",
              "    }\n",
              "\n",
              "    .colab-df-convert:hover {\n",
              "      background-color: #E2EBFA;\n",
              "      box-shadow: 0px 1px 2px rgba(60, 64, 67, 0.3), 0px 1px 3px 1px rgba(60, 64, 67, 0.15);\n",
              "      fill: #174EA6;\n",
              "    }\n",
              "\n",
              "    .colab-df-buttons div {\n",
              "      margin-bottom: 4px;\n",
              "    }\n",
              "\n",
              "    [theme=dark] .colab-df-convert {\n",
              "      background-color: #3B4455;\n",
              "      fill: #D2E3FC;\n",
              "    }\n",
              "\n",
              "    [theme=dark] .colab-df-convert:hover {\n",
              "      background-color: #434B5C;\n",
              "      box-shadow: 0px 1px 3px 1px rgba(0, 0, 0, 0.15);\n",
              "      filter: drop-shadow(0px 1px 2px rgba(0, 0, 0, 0.3));\n",
              "      fill: #FFFFFF;\n",
              "    }\n",
              "  </style>\n",
              "\n",
              "    <script>\n",
              "      const buttonEl =\n",
              "        document.querySelector('#df-37387749-7a05-4667-ab32-2035e4ad763f button.colab-df-convert');\n",
              "      buttonEl.style.display =\n",
              "        google.colab.kernel.accessAllowed ? 'block' : 'none';\n",
              "\n",
              "      async function convertToInteractive(key) {\n",
              "        const element = document.querySelector('#df-37387749-7a05-4667-ab32-2035e4ad763f');\n",
              "        const dataTable =\n",
              "          await google.colab.kernel.invokeFunction('convertToInteractive',\n",
              "                                                    [key], {});\n",
              "        if (!dataTable) return;\n",
              "\n",
              "        const docLinkHtml = 'Like what you see? Visit the ' +\n",
              "          '<a target=\"_blank\" href=https://colab.research.google.com/notebooks/data_table.ipynb>data table notebook</a>'\n",
              "          + ' to learn more about interactive tables.';\n",
              "        element.innerHTML = '';\n",
              "        dataTable['output_type'] = 'display_data';\n",
              "        await google.colab.output.renderOutput(dataTable, element);\n",
              "        const docLink = document.createElement('div');\n",
              "        docLink.innerHTML = docLinkHtml;\n",
              "        element.appendChild(docLink);\n",
              "      }\n",
              "    </script>\n",
              "  </div>\n",
              "\n",
              "\n",
              "<div id=\"df-61effa14-80ed-4d63-ab4d-a615be2c52b5\">\n",
              "  <button class=\"colab-df-quickchart\" onclick=\"quickchart('df-61effa14-80ed-4d63-ab4d-a615be2c52b5')\"\n",
              "            title=\"Suggest charts\"\n",
              "            style=\"display:none;\">\n",
              "\n",
              "<svg xmlns=\"http://www.w3.org/2000/svg\" height=\"24px\"viewBox=\"0 0 24 24\"\n",
              "     width=\"24px\">\n",
              "    <g>\n",
              "        <path d=\"M19 3H5c-1.1 0-2 .9-2 2v14c0 1.1.9 2 2 2h14c1.1 0 2-.9 2-2V5c0-1.1-.9-2-2-2zM9 17H7v-7h2v7zm4 0h-2V7h2v10zm4 0h-2v-4h2v4z\"/>\n",
              "    </g>\n",
              "</svg>\n",
              "  </button>\n",
              "\n",
              "<style>\n",
              "  .colab-df-quickchart {\n",
              "      --bg-color: #E8F0FE;\n",
              "      --fill-color: #1967D2;\n",
              "      --hover-bg-color: #E2EBFA;\n",
              "      --hover-fill-color: #174EA6;\n",
              "      --disabled-fill-color: #AAA;\n",
              "      --disabled-bg-color: #DDD;\n",
              "  }\n",
              "\n",
              "  [theme=dark] .colab-df-quickchart {\n",
              "      --bg-color: #3B4455;\n",
              "      --fill-color: #D2E3FC;\n",
              "      --hover-bg-color: #434B5C;\n",
              "      --hover-fill-color: #FFFFFF;\n",
              "      --disabled-bg-color: #3B4455;\n",
              "      --disabled-fill-color: #666;\n",
              "  }\n",
              "\n",
              "  .colab-df-quickchart {\n",
              "    background-color: var(--bg-color);\n",
              "    border: none;\n",
              "    border-radius: 50%;\n",
              "    cursor: pointer;\n",
              "    display: none;\n",
              "    fill: var(--fill-color);\n",
              "    height: 32px;\n",
              "    padding: 0;\n",
              "    width: 32px;\n",
              "  }\n",
              "\n",
              "  .colab-df-quickchart:hover {\n",
              "    background-color: var(--hover-bg-color);\n",
              "    box-shadow: 0 1px 2px rgba(60, 64, 67, 0.3), 0 1px 3px 1px rgba(60, 64, 67, 0.15);\n",
              "    fill: var(--button-hover-fill-color);\n",
              "  }\n",
              "\n",
              "  .colab-df-quickchart-complete:disabled,\n",
              "  .colab-df-quickchart-complete:disabled:hover {\n",
              "    background-color: var(--disabled-bg-color);\n",
              "    fill: var(--disabled-fill-color);\n",
              "    box-shadow: none;\n",
              "  }\n",
              "\n",
              "  .colab-df-spinner {\n",
              "    border: 2px solid var(--fill-color);\n",
              "    border-color: transparent;\n",
              "    border-bottom-color: var(--fill-color);\n",
              "    animation:\n",
              "      spin 1s steps(1) infinite;\n",
              "  }\n",
              "\n",
              "  @keyframes spin {\n",
              "    0% {\n",
              "      border-color: transparent;\n",
              "      border-bottom-color: var(--fill-color);\n",
              "      border-left-color: var(--fill-color);\n",
              "    }\n",
              "    20% {\n",
              "      border-color: transparent;\n",
              "      border-left-color: var(--fill-color);\n",
              "      border-top-color: var(--fill-color);\n",
              "    }\n",
              "    30% {\n",
              "      border-color: transparent;\n",
              "      border-left-color: var(--fill-color);\n",
              "      border-top-color: var(--fill-color);\n",
              "      border-right-color: var(--fill-color);\n",
              "    }\n",
              "    40% {\n",
              "      border-color: transparent;\n",
              "      border-right-color: var(--fill-color);\n",
              "      border-top-color: var(--fill-color);\n",
              "    }\n",
              "    60% {\n",
              "      border-color: transparent;\n",
              "      border-right-color: var(--fill-color);\n",
              "    }\n",
              "    80% {\n",
              "      border-color: transparent;\n",
              "      border-right-color: var(--fill-color);\n",
              "      border-bottom-color: var(--fill-color);\n",
              "    }\n",
              "    90% {\n",
              "      border-color: transparent;\n",
              "      border-bottom-color: var(--fill-color);\n",
              "    }\n",
              "  }\n",
              "</style>\n",
              "\n",
              "  <script>\n",
              "    async function quickchart(key) {\n",
              "      const quickchartButtonEl =\n",
              "        document.querySelector('#' + key + ' button');\n",
              "      quickchartButtonEl.disabled = true;  // To prevent multiple clicks.\n",
              "      quickchartButtonEl.classList.add('colab-df-spinner');\n",
              "      try {\n",
              "        const charts = await google.colab.kernel.invokeFunction(\n",
              "            'suggestCharts', [key], {});\n",
              "      } catch (error) {\n",
              "        console.error('Error during call to suggestCharts:', error);\n",
              "      }\n",
              "      quickchartButtonEl.classList.remove('colab-df-spinner');\n",
              "      quickchartButtonEl.classList.add('colab-df-quickchart-complete');\n",
              "    }\n",
              "    (() => {\n",
              "      let quickchartButtonEl =\n",
              "        document.querySelector('#df-61effa14-80ed-4d63-ab4d-a615be2c52b5 button');\n",
              "      quickchartButtonEl.style.display =\n",
              "        google.colab.kernel.accessAllowed ? 'block' : 'none';\n",
              "    })();\n",
              "  </script>\n",
              "</div>\n",
              "    </div>\n",
              "  </div>\n"
            ]
          },
          "metadata": {},
          "execution_count": 211
        }
      ]
    },
    {
      "cell_type": "code",
      "source": [
        "filtro19 = table19[table19['frequency']>1]\n",
        "filtro19"
      ],
      "metadata": {
        "id": "iuM3sOrGUKsH",
        "colab": {
          "base_uri": "https://localhost:8080/",
          "height": 206
        },
        "outputId": "ab377009-4411-4f3d-8775-0e54af3fbcee"
      },
      "execution_count": 212,
      "outputs": [
        {
          "output_type": "execute_result",
          "data": {
            "text/plain": [
              "  43_willingness_share_sales_data_suppliers  frequency  percentage  \\\n",
              "0            Ni de acuerdo ni en desacuerdo        103    0.602339   \n",
              "1                  Totalmente en desacuerdo         53    0.309942   \n",
              "2                           Algo de acuerdo          7    0.040936   \n",
              "3                        Algo en desacuerdo          5    0.029240   \n",
              "4                     Totalmente de acuerdo          3    0.017544   \n",
              "\n",
              "   cumulative_perc  \n",
              "0         0.602339  \n",
              "1         0.912281  \n",
              "2         0.953216  \n",
              "3         0.982456  \n",
              "4         1.000000  "
            ],
            "text/html": [
              "\n",
              "  <div id=\"df-de4ea4a5-53c1-44ae-a045-3c61af1bbafe\" class=\"colab-df-container\">\n",
              "    <div>\n",
              "<style scoped>\n",
              "    .dataframe tbody tr th:only-of-type {\n",
              "        vertical-align: middle;\n",
              "    }\n",
              "\n",
              "    .dataframe tbody tr th {\n",
              "        vertical-align: top;\n",
              "    }\n",
              "\n",
              "    .dataframe thead th {\n",
              "        text-align: right;\n",
              "    }\n",
              "</style>\n",
              "<table border=\"1\" class=\"dataframe\">\n",
              "  <thead>\n",
              "    <tr style=\"text-align: right;\">\n",
              "      <th></th>\n",
              "      <th>43_willingness_share_sales_data_suppliers</th>\n",
              "      <th>frequency</th>\n",
              "      <th>percentage</th>\n",
              "      <th>cumulative_perc</th>\n",
              "    </tr>\n",
              "  </thead>\n",
              "  <tbody>\n",
              "    <tr>\n",
              "      <th>0</th>\n",
              "      <td>Ni de acuerdo ni en desacuerdo</td>\n",
              "      <td>103</td>\n",
              "      <td>0.602339</td>\n",
              "      <td>0.602339</td>\n",
              "    </tr>\n",
              "    <tr>\n",
              "      <th>1</th>\n",
              "      <td>Totalmente en desacuerdo</td>\n",
              "      <td>53</td>\n",
              "      <td>0.309942</td>\n",
              "      <td>0.912281</td>\n",
              "    </tr>\n",
              "    <tr>\n",
              "      <th>2</th>\n",
              "      <td>Algo de acuerdo</td>\n",
              "      <td>7</td>\n",
              "      <td>0.040936</td>\n",
              "      <td>0.953216</td>\n",
              "    </tr>\n",
              "    <tr>\n",
              "      <th>3</th>\n",
              "      <td>Algo en desacuerdo</td>\n",
              "      <td>5</td>\n",
              "      <td>0.029240</td>\n",
              "      <td>0.982456</td>\n",
              "    </tr>\n",
              "    <tr>\n",
              "      <th>4</th>\n",
              "      <td>Totalmente de acuerdo</td>\n",
              "      <td>3</td>\n",
              "      <td>0.017544</td>\n",
              "      <td>1.000000</td>\n",
              "    </tr>\n",
              "  </tbody>\n",
              "</table>\n",
              "</div>\n",
              "    <div class=\"colab-df-buttons\">\n",
              "\n",
              "  <div class=\"colab-df-container\">\n",
              "    <button class=\"colab-df-convert\" onclick=\"convertToInteractive('df-de4ea4a5-53c1-44ae-a045-3c61af1bbafe')\"\n",
              "            title=\"Convert this dataframe to an interactive table.\"\n",
              "            style=\"display:none;\">\n",
              "\n",
              "  <svg xmlns=\"http://www.w3.org/2000/svg\" height=\"24px\" viewBox=\"0 -960 960 960\">\n",
              "    <path d=\"M120-120v-720h720v720H120Zm60-500h600v-160H180v160Zm220 220h160v-160H400v160Zm0 220h160v-160H400v160ZM180-400h160v-160H180v160Zm440 0h160v-160H620v160ZM180-180h160v-160H180v160Zm440 0h160v-160H620v160Z\"/>\n",
              "  </svg>\n",
              "    </button>\n",
              "\n",
              "  <style>\n",
              "    .colab-df-container {\n",
              "      display:flex;\n",
              "      gap: 12px;\n",
              "    }\n",
              "\n",
              "    .colab-df-convert {\n",
              "      background-color: #E8F0FE;\n",
              "      border: none;\n",
              "      border-radius: 50%;\n",
              "      cursor: pointer;\n",
              "      display: none;\n",
              "      fill: #1967D2;\n",
              "      height: 32px;\n",
              "      padding: 0 0 0 0;\n",
              "      width: 32px;\n",
              "    }\n",
              "\n",
              "    .colab-df-convert:hover {\n",
              "      background-color: #E2EBFA;\n",
              "      box-shadow: 0px 1px 2px rgba(60, 64, 67, 0.3), 0px 1px 3px 1px rgba(60, 64, 67, 0.15);\n",
              "      fill: #174EA6;\n",
              "    }\n",
              "\n",
              "    .colab-df-buttons div {\n",
              "      margin-bottom: 4px;\n",
              "    }\n",
              "\n",
              "    [theme=dark] .colab-df-convert {\n",
              "      background-color: #3B4455;\n",
              "      fill: #D2E3FC;\n",
              "    }\n",
              "\n",
              "    [theme=dark] .colab-df-convert:hover {\n",
              "      background-color: #434B5C;\n",
              "      box-shadow: 0px 1px 3px 1px rgba(0, 0, 0, 0.15);\n",
              "      filter: drop-shadow(0px 1px 2px rgba(0, 0, 0, 0.3));\n",
              "      fill: #FFFFFF;\n",
              "    }\n",
              "  </style>\n",
              "\n",
              "    <script>\n",
              "      const buttonEl =\n",
              "        document.querySelector('#df-de4ea4a5-53c1-44ae-a045-3c61af1bbafe button.colab-df-convert');\n",
              "      buttonEl.style.display =\n",
              "        google.colab.kernel.accessAllowed ? 'block' : 'none';\n",
              "\n",
              "      async function convertToInteractive(key) {\n",
              "        const element = document.querySelector('#df-de4ea4a5-53c1-44ae-a045-3c61af1bbafe');\n",
              "        const dataTable =\n",
              "          await google.colab.kernel.invokeFunction('convertToInteractive',\n",
              "                                                    [key], {});\n",
              "        if (!dataTable) return;\n",
              "\n",
              "        const docLinkHtml = 'Like what you see? Visit the ' +\n",
              "          '<a target=\"_blank\" href=https://colab.research.google.com/notebooks/data_table.ipynb>data table notebook</a>'\n",
              "          + ' to learn more about interactive tables.';\n",
              "        element.innerHTML = '';\n",
              "        dataTable['output_type'] = 'display_data';\n",
              "        await google.colab.output.renderOutput(dataTable, element);\n",
              "        const docLink = document.createElement('div');\n",
              "        docLink.innerHTML = docLinkHtml;\n",
              "        element.appendChild(docLink);\n",
              "      }\n",
              "    </script>\n",
              "  </div>\n",
              "\n",
              "\n",
              "<div id=\"df-f345e522-778e-463a-9da6-4b7329778b41\">\n",
              "  <button class=\"colab-df-quickchart\" onclick=\"quickchart('df-f345e522-778e-463a-9da6-4b7329778b41')\"\n",
              "            title=\"Suggest charts\"\n",
              "            style=\"display:none;\">\n",
              "\n",
              "<svg xmlns=\"http://www.w3.org/2000/svg\" height=\"24px\"viewBox=\"0 0 24 24\"\n",
              "     width=\"24px\">\n",
              "    <g>\n",
              "        <path d=\"M19 3H5c-1.1 0-2 .9-2 2v14c0 1.1.9 2 2 2h14c1.1 0 2-.9 2-2V5c0-1.1-.9-2-2-2zM9 17H7v-7h2v7zm4 0h-2V7h2v10zm4 0h-2v-4h2v4z\"/>\n",
              "    </g>\n",
              "</svg>\n",
              "  </button>\n",
              "\n",
              "<style>\n",
              "  .colab-df-quickchart {\n",
              "      --bg-color: #E8F0FE;\n",
              "      --fill-color: #1967D2;\n",
              "      --hover-bg-color: #E2EBFA;\n",
              "      --hover-fill-color: #174EA6;\n",
              "      --disabled-fill-color: #AAA;\n",
              "      --disabled-bg-color: #DDD;\n",
              "  }\n",
              "\n",
              "  [theme=dark] .colab-df-quickchart {\n",
              "      --bg-color: #3B4455;\n",
              "      --fill-color: #D2E3FC;\n",
              "      --hover-bg-color: #434B5C;\n",
              "      --hover-fill-color: #FFFFFF;\n",
              "      --disabled-bg-color: #3B4455;\n",
              "      --disabled-fill-color: #666;\n",
              "  }\n",
              "\n",
              "  .colab-df-quickchart {\n",
              "    background-color: var(--bg-color);\n",
              "    border: none;\n",
              "    border-radius: 50%;\n",
              "    cursor: pointer;\n",
              "    display: none;\n",
              "    fill: var(--fill-color);\n",
              "    height: 32px;\n",
              "    padding: 0;\n",
              "    width: 32px;\n",
              "  }\n",
              "\n",
              "  .colab-df-quickchart:hover {\n",
              "    background-color: var(--hover-bg-color);\n",
              "    box-shadow: 0 1px 2px rgba(60, 64, 67, 0.3), 0 1px 3px 1px rgba(60, 64, 67, 0.15);\n",
              "    fill: var(--button-hover-fill-color);\n",
              "  }\n",
              "\n",
              "  .colab-df-quickchart-complete:disabled,\n",
              "  .colab-df-quickchart-complete:disabled:hover {\n",
              "    background-color: var(--disabled-bg-color);\n",
              "    fill: var(--disabled-fill-color);\n",
              "    box-shadow: none;\n",
              "  }\n",
              "\n",
              "  .colab-df-spinner {\n",
              "    border: 2px solid var(--fill-color);\n",
              "    border-color: transparent;\n",
              "    border-bottom-color: var(--fill-color);\n",
              "    animation:\n",
              "      spin 1s steps(1) infinite;\n",
              "  }\n",
              "\n",
              "  @keyframes spin {\n",
              "    0% {\n",
              "      border-color: transparent;\n",
              "      border-bottom-color: var(--fill-color);\n",
              "      border-left-color: var(--fill-color);\n",
              "    }\n",
              "    20% {\n",
              "      border-color: transparent;\n",
              "      border-left-color: var(--fill-color);\n",
              "      border-top-color: var(--fill-color);\n",
              "    }\n",
              "    30% {\n",
              "      border-color: transparent;\n",
              "      border-left-color: var(--fill-color);\n",
              "      border-top-color: var(--fill-color);\n",
              "      border-right-color: var(--fill-color);\n",
              "    }\n",
              "    40% {\n",
              "      border-color: transparent;\n",
              "      border-right-color: var(--fill-color);\n",
              "      border-top-color: var(--fill-color);\n",
              "    }\n",
              "    60% {\n",
              "      border-color: transparent;\n",
              "      border-right-color: var(--fill-color);\n",
              "    }\n",
              "    80% {\n",
              "      border-color: transparent;\n",
              "      border-right-color: var(--fill-color);\n",
              "      border-bottom-color: var(--fill-color);\n",
              "    }\n",
              "    90% {\n",
              "      border-color: transparent;\n",
              "      border-bottom-color: var(--fill-color);\n",
              "    }\n",
              "  }\n",
              "</style>\n",
              "\n",
              "  <script>\n",
              "    async function quickchart(key) {\n",
              "      const quickchartButtonEl =\n",
              "        document.querySelector('#' + key + ' button');\n",
              "      quickchartButtonEl.disabled = true;  // To prevent multiple clicks.\n",
              "      quickchartButtonEl.classList.add('colab-df-spinner');\n",
              "      try {\n",
              "        const charts = await google.colab.kernel.invokeFunction(\n",
              "            'suggestCharts', [key], {});\n",
              "      } catch (error) {\n",
              "        console.error('Error during call to suggestCharts:', error);\n",
              "      }\n",
              "      quickchartButtonEl.classList.remove('colab-df-spinner');\n",
              "      quickchartButtonEl.classList.add('colab-df-quickchart-complete');\n",
              "    }\n",
              "    (() => {\n",
              "      let quickchartButtonEl =\n",
              "        document.querySelector('#df-f345e522-778e-463a-9da6-4b7329778b41 button');\n",
              "      quickchartButtonEl.style.display =\n",
              "        google.colab.kernel.accessAllowed ? 'block' : 'none';\n",
              "    })();\n",
              "  </script>\n",
              "</div>\n",
              "    </div>\n",
              "  </div>\n"
            ]
          },
          "metadata": {},
          "execution_count": 212
        }
      ]
    },
    {
      "cell_type": "code",
      "source": [
        "filtro19_index=filtro19.set_index('43_willingness_share_sales_data_suppliers')\n",
        "filtro19.index"
      ],
      "metadata": {
        "id": "biIYEdQrUKuO"
      },
      "execution_count": null,
      "outputs": []
    },
    {
      "cell_type": "code",
      "source": [
        "filtro19_index.plot(kind = 'area', figsize=(20,4),alpha = 0.5)\n",
        "plt.title('willingness_share_sales_data_suppliers')"
      ],
      "metadata": {
        "id": "Ahec_wWxUKwm"
      },
      "execution_count": null,
      "outputs": []
    },
    {
      "cell_type": "code",
      "source": [
        "table20 = freq_tbl(data['192_procurement_planning_tools'])\n",
        "table20"
      ],
      "metadata": {
        "id": "NIm-BNL7U3Ue"
      },
      "execution_count": null,
      "outputs": []
    },
    {
      "cell_type": "code",
      "source": [
        "filtro20 = table20[table20['frequency']>1]\n",
        "filtro20"
      ],
      "metadata": {
        "colab": {
          "base_uri": "https://localhost:8080/",
          "height": 269
        },
        "id": "Vj9S3h4zU3az",
        "outputId": "29c18a3b-ac51-4a4d-811d-18b8be871359"
      },
      "execution_count": 216,
      "outputs": [
        {
          "output_type": "execute_result",
          "data": {
            "text/plain": [
              "  192_procurement_planning_tools  frequency  percentage  cumulative_perc\n",
              "0                        no_data        103    0.602339         0.602339\n",
              "1                       Cuaderno         25    0.146199         0.748538\n",
              "2                        Ninguna         24    0.140351         0.888889\n",
              "3                          Excel          6    0.035088         0.923977\n",
              "4         Software especializado          4    0.023392         0.947368\n",
              "5      Aplicación móvil,Cuaderno          2    0.011696         0.959064\n",
              "6                 Cuaderno,Excel          2    0.011696         0.970760"
            ],
            "text/html": [
              "\n",
              "  <div id=\"df-b67bb9a0-ad2a-4932-a7d9-a72ecb1d1d97\" class=\"colab-df-container\">\n",
              "    <div>\n",
              "<style scoped>\n",
              "    .dataframe tbody tr th:only-of-type {\n",
              "        vertical-align: middle;\n",
              "    }\n",
              "\n",
              "    .dataframe tbody tr th {\n",
              "        vertical-align: top;\n",
              "    }\n",
              "\n",
              "    .dataframe thead th {\n",
              "        text-align: right;\n",
              "    }\n",
              "</style>\n",
              "<table border=\"1\" class=\"dataframe\">\n",
              "  <thead>\n",
              "    <tr style=\"text-align: right;\">\n",
              "      <th></th>\n",
              "      <th>192_procurement_planning_tools</th>\n",
              "      <th>frequency</th>\n",
              "      <th>percentage</th>\n",
              "      <th>cumulative_perc</th>\n",
              "    </tr>\n",
              "  </thead>\n",
              "  <tbody>\n",
              "    <tr>\n",
              "      <th>0</th>\n",
              "      <td>no_data</td>\n",
              "      <td>103</td>\n",
              "      <td>0.602339</td>\n",
              "      <td>0.602339</td>\n",
              "    </tr>\n",
              "    <tr>\n",
              "      <th>1</th>\n",
              "      <td>Cuaderno</td>\n",
              "      <td>25</td>\n",
              "      <td>0.146199</td>\n",
              "      <td>0.748538</td>\n",
              "    </tr>\n",
              "    <tr>\n",
              "      <th>2</th>\n",
              "      <td>Ninguna</td>\n",
              "      <td>24</td>\n",
              "      <td>0.140351</td>\n",
              "      <td>0.888889</td>\n",
              "    </tr>\n",
              "    <tr>\n",
              "      <th>3</th>\n",
              "      <td>Excel</td>\n",
              "      <td>6</td>\n",
              "      <td>0.035088</td>\n",
              "      <td>0.923977</td>\n",
              "    </tr>\n",
              "    <tr>\n",
              "      <th>4</th>\n",
              "      <td>Software especializado</td>\n",
              "      <td>4</td>\n",
              "      <td>0.023392</td>\n",
              "      <td>0.947368</td>\n",
              "    </tr>\n",
              "    <tr>\n",
              "      <th>5</th>\n",
              "      <td>Aplicación móvil,Cuaderno</td>\n",
              "      <td>2</td>\n",
              "      <td>0.011696</td>\n",
              "      <td>0.959064</td>\n",
              "    </tr>\n",
              "    <tr>\n",
              "      <th>6</th>\n",
              "      <td>Cuaderno,Excel</td>\n",
              "      <td>2</td>\n",
              "      <td>0.011696</td>\n",
              "      <td>0.970760</td>\n",
              "    </tr>\n",
              "  </tbody>\n",
              "</table>\n",
              "</div>\n",
              "    <div class=\"colab-df-buttons\">\n",
              "\n",
              "  <div class=\"colab-df-container\">\n",
              "    <button class=\"colab-df-convert\" onclick=\"convertToInteractive('df-b67bb9a0-ad2a-4932-a7d9-a72ecb1d1d97')\"\n",
              "            title=\"Convert this dataframe to an interactive table.\"\n",
              "            style=\"display:none;\">\n",
              "\n",
              "  <svg xmlns=\"http://www.w3.org/2000/svg\" height=\"24px\" viewBox=\"0 -960 960 960\">\n",
              "    <path d=\"M120-120v-720h720v720H120Zm60-500h600v-160H180v160Zm220 220h160v-160H400v160Zm0 220h160v-160H400v160ZM180-400h160v-160H180v160Zm440 0h160v-160H620v160ZM180-180h160v-160H180v160Zm440 0h160v-160H620v160Z\"/>\n",
              "  </svg>\n",
              "    </button>\n",
              "\n",
              "  <style>\n",
              "    .colab-df-container {\n",
              "      display:flex;\n",
              "      gap: 12px;\n",
              "    }\n",
              "\n",
              "    .colab-df-convert {\n",
              "      background-color: #E8F0FE;\n",
              "      border: none;\n",
              "      border-radius: 50%;\n",
              "      cursor: pointer;\n",
              "      display: none;\n",
              "      fill: #1967D2;\n",
              "      height: 32px;\n",
              "      padding: 0 0 0 0;\n",
              "      width: 32px;\n",
              "    }\n",
              "\n",
              "    .colab-df-convert:hover {\n",
              "      background-color: #E2EBFA;\n",
              "      box-shadow: 0px 1px 2px rgba(60, 64, 67, 0.3), 0px 1px 3px 1px rgba(60, 64, 67, 0.15);\n",
              "      fill: #174EA6;\n",
              "    }\n",
              "\n",
              "    .colab-df-buttons div {\n",
              "      margin-bottom: 4px;\n",
              "    }\n",
              "\n",
              "    [theme=dark] .colab-df-convert {\n",
              "      background-color: #3B4455;\n",
              "      fill: #D2E3FC;\n",
              "    }\n",
              "\n",
              "    [theme=dark] .colab-df-convert:hover {\n",
              "      background-color: #434B5C;\n",
              "      box-shadow: 0px 1px 3px 1px rgba(0, 0, 0, 0.15);\n",
              "      filter: drop-shadow(0px 1px 2px rgba(0, 0, 0, 0.3));\n",
              "      fill: #FFFFFF;\n",
              "    }\n",
              "  </style>\n",
              "\n",
              "    <script>\n",
              "      const buttonEl =\n",
              "        document.querySelector('#df-b67bb9a0-ad2a-4932-a7d9-a72ecb1d1d97 button.colab-df-convert');\n",
              "      buttonEl.style.display =\n",
              "        google.colab.kernel.accessAllowed ? 'block' : 'none';\n",
              "\n",
              "      async function convertToInteractive(key) {\n",
              "        const element = document.querySelector('#df-b67bb9a0-ad2a-4932-a7d9-a72ecb1d1d97');\n",
              "        const dataTable =\n",
              "          await google.colab.kernel.invokeFunction('convertToInteractive',\n",
              "                                                    [key], {});\n",
              "        if (!dataTable) return;\n",
              "\n",
              "        const docLinkHtml = 'Like what you see? Visit the ' +\n",
              "          '<a target=\"_blank\" href=https://colab.research.google.com/notebooks/data_table.ipynb>data table notebook</a>'\n",
              "          + ' to learn more about interactive tables.';\n",
              "        element.innerHTML = '';\n",
              "        dataTable['output_type'] = 'display_data';\n",
              "        await google.colab.output.renderOutput(dataTable, element);\n",
              "        const docLink = document.createElement('div');\n",
              "        docLink.innerHTML = docLinkHtml;\n",
              "        element.appendChild(docLink);\n",
              "      }\n",
              "    </script>\n",
              "  </div>\n",
              "\n",
              "\n",
              "<div id=\"df-5c0e402e-f82c-4784-82de-db1101cf1cf2\">\n",
              "  <button class=\"colab-df-quickchart\" onclick=\"quickchart('df-5c0e402e-f82c-4784-82de-db1101cf1cf2')\"\n",
              "            title=\"Suggest charts\"\n",
              "            style=\"display:none;\">\n",
              "\n",
              "<svg xmlns=\"http://www.w3.org/2000/svg\" height=\"24px\"viewBox=\"0 0 24 24\"\n",
              "     width=\"24px\">\n",
              "    <g>\n",
              "        <path d=\"M19 3H5c-1.1 0-2 .9-2 2v14c0 1.1.9 2 2 2h14c1.1 0 2-.9 2-2V5c0-1.1-.9-2-2-2zM9 17H7v-7h2v7zm4 0h-2V7h2v10zm4 0h-2v-4h2v4z\"/>\n",
              "    </g>\n",
              "</svg>\n",
              "  </button>\n",
              "\n",
              "<style>\n",
              "  .colab-df-quickchart {\n",
              "      --bg-color: #E8F0FE;\n",
              "      --fill-color: #1967D2;\n",
              "      --hover-bg-color: #E2EBFA;\n",
              "      --hover-fill-color: #174EA6;\n",
              "      --disabled-fill-color: #AAA;\n",
              "      --disabled-bg-color: #DDD;\n",
              "  }\n",
              "\n",
              "  [theme=dark] .colab-df-quickchart {\n",
              "      --bg-color: #3B4455;\n",
              "      --fill-color: #D2E3FC;\n",
              "      --hover-bg-color: #434B5C;\n",
              "      --hover-fill-color: #FFFFFF;\n",
              "      --disabled-bg-color: #3B4455;\n",
              "      --disabled-fill-color: #666;\n",
              "  }\n",
              "\n",
              "  .colab-df-quickchart {\n",
              "    background-color: var(--bg-color);\n",
              "    border: none;\n",
              "    border-radius: 50%;\n",
              "    cursor: pointer;\n",
              "    display: none;\n",
              "    fill: var(--fill-color);\n",
              "    height: 32px;\n",
              "    padding: 0;\n",
              "    width: 32px;\n",
              "  }\n",
              "\n",
              "  .colab-df-quickchart:hover {\n",
              "    background-color: var(--hover-bg-color);\n",
              "    box-shadow: 0 1px 2px rgba(60, 64, 67, 0.3), 0 1px 3px 1px rgba(60, 64, 67, 0.15);\n",
              "    fill: var(--button-hover-fill-color);\n",
              "  }\n",
              "\n",
              "  .colab-df-quickchart-complete:disabled,\n",
              "  .colab-df-quickchart-complete:disabled:hover {\n",
              "    background-color: var(--disabled-bg-color);\n",
              "    fill: var(--disabled-fill-color);\n",
              "    box-shadow: none;\n",
              "  }\n",
              "\n",
              "  .colab-df-spinner {\n",
              "    border: 2px solid var(--fill-color);\n",
              "    border-color: transparent;\n",
              "    border-bottom-color: var(--fill-color);\n",
              "    animation:\n",
              "      spin 1s steps(1) infinite;\n",
              "  }\n",
              "\n",
              "  @keyframes spin {\n",
              "    0% {\n",
              "      border-color: transparent;\n",
              "      border-bottom-color: var(--fill-color);\n",
              "      border-left-color: var(--fill-color);\n",
              "    }\n",
              "    20% {\n",
              "      border-color: transparent;\n",
              "      border-left-color: var(--fill-color);\n",
              "      border-top-color: var(--fill-color);\n",
              "    }\n",
              "    30% {\n",
              "      border-color: transparent;\n",
              "      border-left-color: var(--fill-color);\n",
              "      border-top-color: var(--fill-color);\n",
              "      border-right-color: var(--fill-color);\n",
              "    }\n",
              "    40% {\n",
              "      border-color: transparent;\n",
              "      border-right-color: var(--fill-color);\n",
              "      border-top-color: var(--fill-color);\n",
              "    }\n",
              "    60% {\n",
              "      border-color: transparent;\n",
              "      border-right-color: var(--fill-color);\n",
              "    }\n",
              "    80% {\n",
              "      border-color: transparent;\n",
              "      border-right-color: var(--fill-color);\n",
              "      border-bottom-color: var(--fill-color);\n",
              "    }\n",
              "    90% {\n",
              "      border-color: transparent;\n",
              "      border-bottom-color: var(--fill-color);\n",
              "    }\n",
              "  }\n",
              "</style>\n",
              "\n",
              "  <script>\n",
              "    async function quickchart(key) {\n",
              "      const quickchartButtonEl =\n",
              "        document.querySelector('#' + key + ' button');\n",
              "      quickchartButtonEl.disabled = true;  // To prevent multiple clicks.\n",
              "      quickchartButtonEl.classList.add('colab-df-spinner');\n",
              "      try {\n",
              "        const charts = await google.colab.kernel.invokeFunction(\n",
              "            'suggestCharts', [key], {});\n",
              "      } catch (error) {\n",
              "        console.error('Error during call to suggestCharts:', error);\n",
              "      }\n",
              "      quickchartButtonEl.classList.remove('colab-df-spinner');\n",
              "      quickchartButtonEl.classList.add('colab-df-quickchart-complete');\n",
              "    }\n",
              "    (() => {\n",
              "      let quickchartButtonEl =\n",
              "        document.querySelector('#df-5c0e402e-f82c-4784-82de-db1101cf1cf2 button');\n",
              "      quickchartButtonEl.style.display =\n",
              "        google.colab.kernel.accessAllowed ? 'block' : 'none';\n",
              "    })();\n",
              "  </script>\n",
              "</div>\n",
              "    </div>\n",
              "  </div>\n"
            ]
          },
          "metadata": {},
          "execution_count": 216
        }
      ]
    },
    {
      "cell_type": "code",
      "source": [
        "filtro20_index=filtro20.set_index('192_procurement_planning_tools')\n",
        "filtro20.index"
      ],
      "metadata": {
        "colab": {
          "base_uri": "https://localhost:8080/"
        },
        "id": "hWIffYBhU3dN",
        "outputId": "665783bd-daa1-4c15-fbf6-46f431b519bd"
      },
      "execution_count": 217,
      "outputs": [
        {
          "output_type": "execute_result",
          "data": {
            "text/plain": [
              "Index([0, 1, 2, 3, 4, 5, 6], dtype='int64')"
            ]
          },
          "metadata": {},
          "execution_count": 217
        }
      ]
    },
    {
      "cell_type": "code",
      "source": [
        "filtro20_index.plot(kind = 'bar',width = 1 , figsize = (10,4))\n",
        "plt.title('procurement_planning_tools')"
      ],
      "metadata": {
        "colab": {
          "base_uri": "https://localhost:8080/",
          "height": 598
        },
        "id": "ivetZ0qQU3fm",
        "outputId": "b59d3364-d52c-42f6-855d-6db30d5a998a"
      },
      "execution_count": 220,
      "outputs": [
        {
          "output_type": "execute_result",
          "data": {
            "text/plain": [
              "Text(0.5, 1.0, 'procurement_planning_tools')"
            ]
          },
          "metadata": {},
          "execution_count": 220
        },
        {
          "output_type": "display_data",
          "data": {
            "text/plain": [
              "<Figure size 1000x400 with 1 Axes>"
            ],
            "image/png": "[encoded data removed]"
          },
          "metadata": {}
        }
      ]
    }
  ]
}